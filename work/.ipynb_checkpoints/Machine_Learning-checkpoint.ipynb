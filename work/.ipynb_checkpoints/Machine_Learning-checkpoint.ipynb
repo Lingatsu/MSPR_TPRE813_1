{
 "cells": [
  {
   "cell_type": "code",
   "execution_count": 1,
   "id": "9c336e06-727b-4555-8a39-220c844fb312",
   "metadata": {},
   "outputs": [],
   "source": [
    "from pyspark.sql import functions as F"
   ]
  },
  {
   "cell_type": "code",
   "execution_count": 2,
   "id": "206080a3-5991-482e-8745-7bd001e8889a",
   "metadata": {},
   "outputs": [],
   "source": [
    "from pyspark.sql import SparkSession\n",
    "\n",
    "properties = {\n",
    "    \"user\": \"root\",\n",
    "    \"password\": \"root\",\n",
    "    \"driver\": \"com.mysql.cj.jdbc.Driver\"\n",
    "}\n",
    "\n",
    "spark = SparkSession.builder \\\n",
    "    .appName(\"example\") \\\n",
    "    .config(\"spark.dynamicAllocation.enabled\", \"true\") \\\n",
    "    .config(\"spark.dynamicAllocation.minExecutors\", \"1\") \\\n",
    "    .config(\"spark.dynamicAllocation.maxExecutors\", \"50\") \\\n",
    "    .config(\"spark.driver.memory\", \"8g\") \\\n",
    "    .config(\"spark.executor.memory\", \"8g\") \\\n",
    "    .config(\"spark.executor.instances\", \"4\") \\\n",
    "    .config(\"spark.executor.cores\", \"2\") \\\n",
    "    .config(\"spark.memory.fraction\", \"0.8\") \\\n",
    "    .getOrCreate()"
   ]
  },
  {
   "cell_type": "code",
   "execution_count": 3,
   "id": "9963b543-0331-434d-aaa8-421bebd16f09",
   "metadata": {},
   "outputs": [],
   "source": [
    "df_annee = spark.read.jdbc(url=\"jdbc:mysql://mysql:3306/mspr1\", table=\"annee\", properties=properties).dropna()\n",
    "df_criminalite = spark.read.jdbc(url=\"jdbc:mysql://mysql:3306/mspr1\", table=\"criminalite\", properties=properties).dropna()\n",
    "df_commune = spark.read.jdbc(url=\"jdbc:mysql://mysql:3306/mspr1\", table=\"commune\", properties=properties).dropna()\n",
    "df_demographie = spark.read.jdbc(url=\"jdbc:mysql://mysql:3306/mspr1\", table=\"demographie\", properties=properties).dropna()\n",
    "df_emploi = spark.read.jdbc(url=\"jdbc:mysql://mysql:3306/mspr1\", table=\"emploi\", properties=properties).dropna()\n",
    "df_resultats_elections = spark.read.jdbc(url=\"jdbc:mysql://mysql:3306/mspr1\", table=\"resultats_elections_nuance\", properties=properties).dropna()\n",
    "df_type_election = spark.read.jdbc(url=\"jdbc:mysql://mysql:3306/mspr1\", table=\"type_election\", properties=properties).dropna()"
   ]
  },
  {
   "cell_type": "code",
   "execution_count": 4,
   "id": "3c69c5ca-7c5a-46da-9784-597674979e7a",
   "metadata": {},
   "outputs": [],
   "source": [
    "df = df_resultats_elections.join(df_criminalite, on=[\"id_criminalite\"], how=\"outer\")\n",
    "df = df.join(df_annee, on=[\"id_annee\"], how=\"outer\")\n",
    "df = df.join(df_commune, on=[\"id_commune\"], how=\"outer\")\n",
    "df = df.join(df_demographie, on=[\"id_demographie\"], how=\"outer\")\n",
    "df = df.join(df_emploi, on=[\"id_emploi\"], how=\"outer\")\n",
    "df = df.join(df_type_election, on=[\"id_type_election\"], how=\"outer\").cache()\n",
    "# .join(df_elections, on=[\"codecommune\", \"annee\"], how=\"outer\").join(df_communes, on=[\"codecommune\"], how=\"outer\").cache()"
   ]
  },
  {
   "cell_type": "code",
   "execution_count": 5,
   "id": "75571a86-2f2a-4d46-a2a2-e24be0ab0330",
   "metadata": {},
   "outputs": [
    {
     "data": {
      "text/plain": [
       "DataFrame[id_type_election: int, type_election: string, tour: string]"
      ]
     },
     "execution_count": 5,
     "metadata": {},
     "output_type": "execute_result"
    }
   ],
   "source": [
    "df_annee.unpersist()\n",
    "df_criminalite.unpersist()\n",
    "df_commune.unpersist()\n",
    "df_demographie.unpersist()\n",
    "df_resultats_elections.unpersist()\n",
    "df_type_election.unpersist()"
   ]
  },
  {
   "cell_type": "code",
   "execution_count": 6,
   "id": "1bb1cfe8-5075-4347-aebc-31c49493df9c",
   "metadata": {},
   "outputs": [],
   "source": [
    "df = df.filter(~(df[\"tour\"] == \"t2\"))"
   ]
  },
  {
   "cell_type": "code",
   "execution_count": 7,
   "id": "0401b96a-4d23-4320-a29e-60c1a119a8db",
   "metadata": {},
   "outputs": [],
   "source": [
    "df_toutes_infos = df.dropna().cache()"
   ]
  },
  {
   "cell_type": "code",
   "execution_count": 8,
   "id": "d143de9d-adc9-4aa8-82fa-51686cc7acc7",
   "metadata": {},
   "outputs": [
    {
     "data": {
      "text/plain": [
       "172159"
      ]
     },
     "execution_count": 8,
     "metadata": {},
     "output_type": "execute_result"
    }
   ],
   "source": [
    "df_toutes_infos.count()"
   ]
  },
  {
   "cell_type": "code",
   "execution_count": 9,
   "id": "c5eaa884-db93-442e-9582-a1847ff18e51",
   "metadata": {},
   "outputs": [],
   "source": [
    "# df_filtered_year = df_toutes_infos.filter(F.col(\"annee\") > 1990).cache()"
   ]
  },
  {
   "cell_type": "code",
   "execution_count": 63,
   "id": "7d9cc2e8-05f9-4d67-aabf-801b386e35a4",
   "metadata": {},
   "outputs": [
    {
     "data": {
      "text/plain": [
       "3091"
      ]
     },
     "execution_count": 63,
     "metadata": {},
     "output_type": "execute_result"
    }
   ],
   "source": [
    "df_filtered_year.sample(0.01).count()"
   ]
  },
  {
   "cell_type": "code",
   "execution_count": 10,
   "id": "98b77aa0-a74c-4075-999b-2bb92e6f0dd4",
   "metadata": {},
   "outputs": [],
   "source": [
    "import matplotlib.pyplot as plt\n",
    "import seaborn as sns"
   ]
  },
  {
   "cell_type": "code",
   "execution_count": 12,
   "id": "211c7777-e686-40ce-8bf8-96d2ab32c03c",
   "metadata": {},
   "outputs": [
    {
     "data": {
      "image/png": "[encoded data removed]",
      "text/plain": [
       "<Figure size 600x600 with 1 Axes>"
      ]
     },
     "metadata": {},
     "output_type": "display_data"
    }
   ],
   "source": [
    "plt.figure(figsize=(6, 6))\n",
    "\n",
    "plt.subplot(1,1,1)\n",
    "sns.histplot(df_pandas['agriculteurs'], kde=True, bins = 20)\n",
    "plt.title(\"agriculteurs\")\n",
    "\n",
    "plt.show()"
   ]
  },
  {
   "cell_type": "code",
   "execution_count": 11,
   "id": "6a654cca-0d20-4186-9b14-8d2bcb42f9ae",
   "metadata": {},
   "outputs": [],
   "source": [
    "# Assuming you have a Pandas DataFrame to convert the Spark DataFrame into Pandas for plotting\n",
    "df_pandas = df_toutes_infos.toPandas()"
   ]
  },
  {
   "cell_type": "code",
   "execution_count": 50,
   "id": "94c1136b-fb80-43c2-beb0-fd1dc217043b",
   "metadata": {},
   "outputs": [],
   "source": [
    "import pandas as pd\n",
    "import numpy as np\n",
    "from sklearn.model_selection import train_test_split\n",
    "from sklearn.linear_model import LinearRegression\n",
    "from sklearn.multioutput import MultiOutputRegressor\n",
    "from sklearn.metrics import mean_squared_error, r2_score\n",
    "from sklearn.preprocessing import StandardScaler\n",
    "\n",
    "scaler = StandardScaler()\n",
    "scalerX = StandardScaler()\n",
    "scalerY = StandardScaler()"
   ]
  },
  {
   "cell_type": "code",
   "execution_count": 14,
   "id": "abab2a0a-3f08-40c9-ba3b-d2da9ac59f0b",
   "metadata": {},
   "outputs": [],
   "source": [
    "features = [\"population\", \"crimes_delits\", \"agriculteurs\", \"independants\", \"cadres\", \"intermediaires\", \"employes\", \"ouvriers\", \"population_active_totale\", \"chomeurs\"]\n",
    "targets = [\"nb_inscrits\", \"nb_voix\", \"autre_nb_voix\", \"egauche_nb_voix\", \"gauche_nb_voix\", \"cgauche_nb_voix\",\n",
    "                \"centre_nb_voix\", \"cdroit_nb_voix\", \"droite_nb_voix\", \"edroite_nb_voix\"]"
   ]
  },
  {
   "cell_type": "code",
   "execution_count": 62,
   "id": "be6930d9-e549-43e0-82b6-d1331ee0ef0b",
   "metadata": {},
   "outputs": [],
   "source": [
    "features_test = [\"population\", \"crimes_delits\", \"agriculteurs\", \"independants\", \"cadres\", \"intermediaires\", \"employes\", \"ouvriers\", \"chomeurs\"]\n",
    "targets_test = [\"nb_inscrits\", \"nb_voix\", \"autre_nb_voix\", \"egauche_nb_voix\", \"gauche_nb_voix\", \"cgauche_nb_voix\",\n",
    "                \"centre_nb_voix\", \"cdroit_nb_voix\", \"droite_nb_voix\", \"edroite_nb_voix\"]"
   ]
  },
  {
   "cell_type": "code",
   "execution_count": 63,
   "id": "99f11b25-a495-4840-bfee-0420719d7bf1",
   "metadata": {},
   "outputs": [],
   "source": [
    "X = df_pandas[features_test]\n",
    "Y = df_pandas[targets_test]"
   ]
  },
  {
   "cell_type": "code",
   "execution_count": 25,
   "id": "283f0c13-9cf6-4d0c-9727-5f675a4b0a31",
   "metadata": {
    "collapsed": true,
    "jupyter": {
     "outputs_hidden": true
    }
   },
   "outputs": [
    {
     "data": {
      "image/png": "[encoded data removed]",
      "text/plain": [
       "<Figure size 750x750 with 12 Axes>"
      ]
     },
     "metadata": {},
     "output_type": "display_data"
    }
   ],
   "source": [
    "sns.pairplot(df_pandas[['population', 'chomeurs', 'nb_voix']])\n",
    "plt.show()"
   ]
  },
  {
   "cell_type": "code",
   "execution_count": 27,
   "id": "6ccccaac-fa7a-4146-beb0-bb333eacc14b",
   "metadata": {
    "collapsed": true,
    "jupyter": {
     "outputs_hidden": true
    }
   },
   "outputs": [
    {
     "data": {
      "image/png": "[encoded data removed]",
      "text/plain": [
       "<Figure size 640x480 with 2 Axes>"
      ]
     },
     "metadata": {},
     "output_type": "display_data"
    }
   ],
   "source": [
    "corr_matrix = df_pandas[['population', 'chomeurs', 'nb_voix']].corr()\n",
    "sns.heatmap(corr_matrix, annot=True, cmap=\"coolwarm\")\n",
    "plt.show()"
   ]
  },
  {
   "cell_type": "code",
   "execution_count": 64,
   "id": "f8e23c83-8b2a-4a47-aed5-94e73da649e2",
   "metadata": {},
   "outputs": [],
   "source": [
    "X_train, X_test, Y_train, Y_test = train_test_split(X, Y, test_size=0.2, random_state=42)"
   ]
  },
  {
   "cell_type": "code",
   "execution_count": 67,
   "id": "1eed21ba-b511-45e4-a00c-3dd76ec53a14",
   "metadata": {},
   "outputs": [],
   "source": [
    "# X_train_scaled = scalerX.fit_transform(X_train)\n",
    "# X_test_scaled = scalerX.fit_transform(X_test)\n",
    "\n",
    "model = LinearRegression()\n",
    "model.fit(X_train, Y_train)\n",
    "\n",
    "Y_pred = model.predict(X_test)"
   ]
  },
  {
   "cell_type": "code",
   "execution_count": 68,
   "id": "298ffdc8-50aa-4b5b-a4a7-10695f23ac58",
   "metadata": {},
   "outputs": [
    {
     "name": "stdout",
     "output_type": "stream",
     "text": [
      "MSE for nb_inscrits: 310487.0810449675\n",
      "MSE for nb_voix: 877704.7012946612\n",
      "MSE for autre_nb_voix: 2565.0074463213687\n",
      "MSE for egauche_nb_voix: 6595.631957751806\n",
      "MSE for gauche_nb_voix: 98994.24737913384\n",
      "MSE for cgauche_nb_voix: 588.7814124956211\n",
      "MSE for centre_nb_voix: 70652.85863807258\n",
      "MSE for cdroit_nb_voix: 9470.28390418128\n",
      "MSE for droite_nb_voix: 97772.60700615247\n",
      "MSE for edroite_nb_voix: 139509.05942207365\n",
      "R2 Score for nb_inscrits: 0.9908125772170802\n",
      "R2 Score for nb_voix: 0.9154400381576488\n",
      "R2 Score for autre_nb_voix: 0.2106123813260855\n",
      "R2 Score for egauche_nb_voix: 0.35121210948094417\n",
      "R2 Score for gauche_nb_voix: 0.9286416832849651\n",
      "R2 Score for cgauche_nb_voix: 0.012706473149110997\n",
      "R2 Score for centre_nb_voix: 0.9177198776214842\n",
      "R2 Score for cdroit_nb_voix: -0.09904174062036208\n",
      "R2 Score for droite_nb_voix: 0.5557429849333495\n",
      "R2 Score for edroite_nb_voix: 0.7482476789618131\n"
     ]
    }
   ],
   "source": [
    "for idx, target in enumerate(targets_test):\n",
    "    print(f'MSE for {target}: {mean_squared_error(Y_test[target], Y_pred[:, idx])}')\n",
    "\n",
    "for idx, target in enumerate(targets_test):\n",
    "    print(f'R2 Score for {target}: {r2_score(Y_test[target], Y_pred[:, idx])}')"
   ]
  },
  {
   "cell_type": "code",
   "execution_count": 69,
   "id": "5986b6ef-15e6-4739-804f-bac44832cb1e",
   "metadata": {},
   "outputs": [
    {
     "data": {
      "text/html": [
       "<div>\n",
       "<style scoped>\n",
       "    .dataframe tbody tr th:only-of-type {\n",
       "        vertical-align: middle;\n",
       "    }\n",
       "\n",
       "    .dataframe tbody tr th {\n",
       "        vertical-align: top;\n",
       "    }\n",
       "\n",
       "    .dataframe thead th {\n",
       "        text-align: right;\n",
       "    }\n",
       "</style>\n",
       "<table border=\"1\" class=\"dataframe\">\n",
       "  <thead>\n",
       "    <tr style=\"text-align: right;\">\n",
       "      <th></th>\n",
       "      <th>True_nb_inscrits</th>\n",
       "      <th>True_nb_voix</th>\n",
       "      <th>Pred_nb_inscrits</th>\n",
       "      <th>Pred_nb_voix</th>\n",
       "    </tr>\n",
       "  </thead>\n",
       "  <tbody>\n",
       "    <tr>\n",
       "      <th>0</th>\n",
       "      <td>336</td>\n",
       "      <td>179</td>\n",
       "      <td>424.176223</td>\n",
       "      <td>277.813340</td>\n",
       "    </tr>\n",
       "    <tr>\n",
       "      <th>1</th>\n",
       "      <td>734</td>\n",
       "      <td>582</td>\n",
       "      <td>852.409777</td>\n",
       "      <td>607.971912</td>\n",
       "    </tr>\n",
       "    <tr>\n",
       "      <th>2</th>\n",
       "      <td>1199</td>\n",
       "      <td>615</td>\n",
       "      <td>1375.189223</td>\n",
       "      <td>829.575164</td>\n",
       "    </tr>\n",
       "    <tr>\n",
       "      <th>3</th>\n",
       "      <td>84</td>\n",
       "      <td>49</td>\n",
       "      <td>90.683559</td>\n",
       "      <td>91.701778</td>\n",
       "    </tr>\n",
       "    <tr>\n",
       "      <th>4</th>\n",
       "      <td>16</td>\n",
       "      <td>14</td>\n",
       "      <td>72.842698</td>\n",
       "      <td>81.506679</td>\n",
       "    </tr>\n",
       "    <tr>\n",
       "      <th>5</th>\n",
       "      <td>866</td>\n",
       "      <td>723</td>\n",
       "      <td>928.773842</td>\n",
       "      <td>611.480491</td>\n",
       "    </tr>\n",
       "    <tr>\n",
       "      <th>6</th>\n",
       "      <td>628</td>\n",
       "      <td>288</td>\n",
       "      <td>629.277262</td>\n",
       "      <td>373.793931</td>\n",
       "    </tr>\n",
       "    <tr>\n",
       "      <th>7</th>\n",
       "      <td>401</td>\n",
       "      <td>196</td>\n",
       "      <td>370.166269</td>\n",
       "      <td>246.522312</td>\n",
       "    </tr>\n",
       "    <tr>\n",
       "      <th>8</th>\n",
       "      <td>3976</td>\n",
       "      <td>2200</td>\n",
       "      <td>4195.960873</td>\n",
       "      <td>2611.561259</td>\n",
       "    </tr>\n",
       "    <tr>\n",
       "      <th>9</th>\n",
       "      <td>52</td>\n",
       "      <td>31</td>\n",
       "      <td>79.774507</td>\n",
       "      <td>71.416574</td>\n",
       "    </tr>\n",
       "  </tbody>\n",
       "</table>\n",
       "</div>"
      ],
      "text/plain": [
       "   True_nb_inscrits  True_nb_voix  Pred_nb_inscrits  Pred_nb_voix\n",
       "0               336           179        424.176223    277.813340\n",
       "1               734           582        852.409777    607.971912\n",
       "2              1199           615       1375.189223    829.575164\n",
       "3                84            49         90.683559     91.701778\n",
       "4                16            14         72.842698     81.506679\n",
       "5               866           723        928.773842    611.480491\n",
       "6               628           288        629.277262    373.793931\n",
       "7               401           196        370.166269    246.522312\n",
       "8              3976          2200       4195.960873   2611.561259\n",
       "9                52            31         79.774507     71.416574"
      ]
     },
     "execution_count": 69,
     "metadata": {},
     "output_type": "execute_result"
    }
   ],
   "source": [
    "# Convert predictions to a DataFrame\n",
    "Y_pred_df = pd.DataFrame(Y_pred, columns=[f'pred_{col}' for col in targets_test])\n",
    "\n",
    "# Select a few rows to visualize (for example, the first 10 rows)\n",
    "comparison_df = pd.DataFrame({\n",
    "    'True_' + target: Y_test[target].values[:10] for target in [\"nb_inscrits\", \"nb_voix\"]\n",
    "})\n",
    "\n",
    "# Add predicted values to the comparison DataFrame\n",
    "for idx, target in enumerate([\"nb_inscrits\", \"nb_voix\"]):\n",
    "    comparison_df['Pred_' + target] = Y_pred_df.iloc[:10, idx]\n",
    "\n",
    "# Display the comparison for the first few rows\n",
    "comparison_df"
   ]
  },
  {
   "cell_type": "code",
   "execution_count": null,
   "id": "3565b023-589c-4fd2-9d98-2c30ec0e56b3",
   "metadata": {},
   "outputs": [],
   "source": [
    "X_train_scaled = scalerX.fit_transform(X_train)\n",
    "X_test_scaled = scalerX.fit_transform(X_test)\n",
    "\n",
    "Y_train = Y_train.values.ravel()  # Convert to 1D array\n",
    "\n",
    "model = RandomForestRegressor()\n",
    "model.fit(X_train, Y_train)\n",
    "\n",
    "Y_pred = model.predict(X_test)\n"
   ]
  },
  {
   "cell_type": "code",
   "execution_count": 18,
   "id": "f09a0b14-7a9e-44f3-9164-1500be59dd19",
   "metadata": {},
   "outputs": [
    {
     "name": "stdout",
     "output_type": "stream",
     "text": [
      "MSE for nb_inscrits: 386695.6535679141\n",
      "MSE for nb_voix: 820995.92729004\n",
      "MSE for autre_nb_voix: 2525.7240212024585\n",
      "MSE for egauche_nb_voix: 6358.511837649619\n",
      "MSE for gauche_nb_voix: 99460.05603051229\n",
      "MSE for cgauche_nb_voix: 585.4611972529354\n",
      "MSE for centre_nb_voix: 67624.70086454626\n",
      "MSE for cdroit_nb_voix: 9229.406920113855\n",
      "MSE for droite_nb_voix: 98026.31792605671\n",
      "MSE for edroite_nb_voix: 132399.91450881946\n"
     ]
    }
   ],
   "source": [
    "X_train_scaled = scalerX.fit_transform(X_train)\n",
    "Y_train_scaled = scalerY.fit_transform(Y_train)\n",
    "X_test_scaled = scalerX.fit_transform(X_test)\n",
    "\n",
    "base_model = LinearRegression()\n",
    "multi_target_regressor = MultiOutputRegressor(base_model)\n",
    "multi_target_regressor.fit(X_train_scaled, Y_train_scaled)\n",
    "\n",
    "Y_pred_scaled = multi_target_regressor.predict(X_test_scaled)\n",
    "Y_pred_original = scalerY.inverse_transform(Y_pred_scaled)\n",
    "\n",
    "\n",
    "for idx, target in enumerate(targets):\n",
    "    print(f'MSE for {target}: {mean_squared_error(Y_test[target], Y_pred_original[:, idx])}')"
   ]
  },
  {
   "cell_type": "code",
   "execution_count": 20,
   "id": "f4ae52ad-ab75-4f69-8dde-e57a5bff3f60",
   "metadata": {
    "collapsed": true,
    "jupyter": {
     "outputs_hidden": true
    }
   },
   "outputs": [
    {
     "data": {
      "text/html": [
       "<div>\n",
       "<style scoped>\n",
       "    .dataframe tbody tr th:only-of-type {\n",
       "        vertical-align: middle;\n",
       "    }\n",
       "\n",
       "    .dataframe tbody tr th {\n",
       "        vertical-align: top;\n",
       "    }\n",
       "\n",
       "    .dataframe thead th {\n",
       "        text-align: right;\n",
       "    }\n",
       "</style>\n",
       "<table border=\"1\" class=\"dataframe\">\n",
       "  <thead>\n",
       "    <tr style=\"text-align: right;\">\n",
       "      <th></th>\n",
       "      <th>True_droite_nb_voix</th>\n",
       "      <th>True_edroite_nb_voix</th>\n",
       "      <th>Pred_droite_nb_voix</th>\n",
       "      <th>Pred_edroite_nb_voix</th>\n",
       "    </tr>\n",
       "  </thead>\n",
       "  <tbody>\n",
       "    <tr>\n",
       "      <th>0</th>\n",
       "      <td>24</td>\n",
       "      <td>39</td>\n",
       "      <td>425.141908</td>\n",
       "      <td>282.864145</td>\n",
       "    </tr>\n",
       "    <tr>\n",
       "      <th>1</th>\n",
       "      <td>58</td>\n",
       "      <td>252</td>\n",
       "      <td>845.019241</td>\n",
       "      <td>608.651291</td>\n",
       "    </tr>\n",
       "    <tr>\n",
       "      <th>2</th>\n",
       "      <td>0</td>\n",
       "      <td>239</td>\n",
       "      <td>1337.397774</td>\n",
       "      <td>809.041050</td>\n",
       "    </tr>\n",
       "    <tr>\n",
       "      <th>3</th>\n",
       "      <td>5</td>\n",
       "      <td>27</td>\n",
       "      <td>107.114801</td>\n",
       "      <td>107.037162</td>\n",
       "    </tr>\n",
       "    <tr>\n",
       "      <th>4</th>\n",
       "      <td>1</td>\n",
       "      <td>3</td>\n",
       "      <td>89.537643</td>\n",
       "      <td>96.782938</td>\n",
       "    </tr>\n",
       "    <tr>\n",
       "      <th>5</th>\n",
       "      <td>203</td>\n",
       "      <td>261</td>\n",
       "      <td>912.512210</td>\n",
       "      <td>605.151781</td>\n",
       "    </tr>\n",
       "    <tr>\n",
       "      <th>6</th>\n",
       "      <td>0</td>\n",
       "      <td>127</td>\n",
       "      <td>621.267007</td>\n",
       "      <td>373.286330</td>\n",
       "    </tr>\n",
       "    <tr>\n",
       "      <th>7</th>\n",
       "      <td>70</td>\n",
       "      <td>61</td>\n",
       "      <td>373.465138</td>\n",
       "      <td>253.035074</td>\n",
       "    </tr>\n",
       "    <tr>\n",
       "      <th>8</th>\n",
       "      <td>444</td>\n",
       "      <td>261</td>\n",
       "      <td>4053.125887</td>\n",
       "      <td>2523.117715</td>\n",
       "    </tr>\n",
       "    <tr>\n",
       "      <th>9</th>\n",
       "      <td>16</td>\n",
       "      <td>10</td>\n",
       "      <td>94.514920</td>\n",
       "      <td>85.386747</td>\n",
       "    </tr>\n",
       "  </tbody>\n",
       "</table>\n",
       "</div>"
      ],
      "text/plain": [
       "   True_droite_nb_voix  True_edroite_nb_voix  Pred_droite_nb_voix  \\\n",
       "0                   24                    39           425.141908   \n",
       "1                   58                   252           845.019241   \n",
       "2                    0                   239          1337.397774   \n",
       "3                    5                    27           107.114801   \n",
       "4                    1                     3            89.537643   \n",
       "5                  203                   261           912.512210   \n",
       "6                    0                   127           621.267007   \n",
       "7                   70                    61           373.465138   \n",
       "8                  444                   261          4053.125887   \n",
       "9                   16                    10            94.514920   \n",
       "\n",
       "   Pred_edroite_nb_voix  \n",
       "0            282.864145  \n",
       "1            608.651291  \n",
       "2            809.041050  \n",
       "3            107.037162  \n",
       "4             96.782938  \n",
       "5            605.151781  \n",
       "6            373.286330  \n",
       "7            253.035074  \n",
       "8           2523.117715  \n",
       "9             85.386747  "
      ]
     },
     "execution_count": 20,
     "metadata": {},
     "output_type": "execute_result"
    }
   ],
   "source": [
    "# Convert predictions to a DataFrame\n",
    "Y_pred_df = pd.DataFrame(Y_pred_original, columns=[f'pred_{col}' for col in targets])\n",
    "\n",
    "# Select a few rows to visualize (for example, the first 10 rows)\n",
    "comparison_df = pd.DataFrame({\n",
    "    'True_' + target: Y_test[target].values[:10] for target in [\"droite_nb_voix\", \"edroite_nb_voix\"]\n",
    "})\n",
    "\n",
    "# Add predicted values to the comparison DataFrame\n",
    "for idx, target in enumerate([\"droite_nb_voix\", \"edroite_nb_voix\"]):\n",
    "    comparison_df['Pred_' + target] = Y_pred_df.iloc[:10, idx]\n",
    "\n",
    "# Display the comparison for the first few rows\n",
    "comparison_df"
   ]
  },
  {
   "cell_type": "code",
   "execution_count": 41,
   "id": "07ef09a7-8196-4d82-8c26-43b64515b84c",
   "metadata": {},
   "outputs": [],
   "source": [
    "from sklearn.ensemble import RandomForestRegressor"
   ]
  },
  {
   "cell_type": "code",
   "execution_count": 137,
   "id": "e93bff57-be89-4cdb-9069-779cf1641eba",
   "metadata": {},
   "outputs": [],
   "source": [
    "scalerX = StandardScaler()\n",
    "scalerY = StandardScaler()"
   ]
  },
  {
   "cell_type": "code",
   "execution_count": 138,
   "id": "cba96f59-0194-4066-8939-65039897b3e5",
   "metadata": {},
   "outputs": [],
   "source": [
    "X_train, X_test, Y_train, Y_test = train_test_split(X, Y, test_size=0.2, random_state=42)"
   ]
  },
  {
   "cell_type": "code",
   "execution_count": 139,
   "id": "cb89a40a-6cac-4f0c-8ccd-7801306799cf",
   "metadata": {},
   "outputs": [
    {
     "name": "stdout",
     "output_type": "stream",
     "text": [
      "MSE for pourcentage_voix_inscrits: 250.64601345463717\n",
      "MSE for autre_pourcentage_voix_inscrits: 3.0602705367069754\n",
      "MSE for egauche_pourcentage_voix_inscrits: 5.774864381722348\n",
      "MSE for gauche_pourcentage_voix_inscrits: 125.47670516022043\n",
      "MSE for cgauche_pourcentage_voix_inscrits: 13.767253839128012\n",
      "MSE for centre_pourcentage_voix_inscrits: 180.65285357266265\n",
      "MSE for cdroit_pourcentage_voix_inscrits: 16.80107722930806\n",
      "MSE for droite_pourcentage_voix_inscrits: 113.97789591337975\n",
      "MSE for edroite_pourcentage_voix_inscrits: 163.28526247012826\n"
     ]
    }
   ],
   "source": [
    "X_train_scaled = scalerX.fit_transform(X_train)\n",
    "Y_train_scaled = scalerY.fit_transform(Y_train)\n",
    "X_test_scaled = scalerX.fit_transform(X_test)\n",
    "\n",
    "base_model = RandomForestRegressor()\n",
    "multi_target_regressor = MultiOutputRegressor(base_model)\n",
    "multi_target_regressor.fit(X_train_scaled, Y_train_scaled)\n",
    "\n",
    "Y_pred_scaled = multi_target_regressor.predict(X_test_scaled)\n",
    "Y_pred_original = scalerY.inverse_transform(Y_pred_scaled)\n",
    "\n",
    "mse_targets = []\n",
    "for idx, target in enumerate(targets):\n",
    "    print(f'MSE for {target}: {mean_squared_error(Y_test[target], Y_pred_original[:, idx])}')"
   ]
  },
  {
   "cell_type": "code",
   "execution_count": null,
   "id": "5eee6b50-1fdf-421d-8f0a-e141323371c2",
   "metadata": {},
   "outputs": [],
   "source": [
    "# Convert predictions to a DataFrame\n",
    "Y_pred_df = pd.DataFrame(Y_pred_original, columns=[f'pred_{col}' for col in targets])\n",
    "\n",
    "# Select a few rows to visualize (for example, the first 10 rows)\n",
    "comparison_df = pd.DataFrame({\n",
    "    'True_' + target: Y_test[target].values[:10] for target in [\"droite_pourcentage_voix_inscrits\", \"edroite_pourcentage_voix_inscrits\"]\n",
    "})\n",
    "\n",
    "# Add predicted values to the comparison DataFrame\n",
    "for idx, target in enumerate([\"droite_pourcentage_voix_inscrits\", \"edroite_pourcentage_voix_inscrits\"]):\n",
    "    comparison_df['Pred_' + target] = Y_pred_df.iloc[:10, idx]\n",
    "\n",
    "# Display the comparison for the first few rows\n",
    "comparison_df"
   ]
  },
  {
   "cell_type": "code",
   "execution_count": 5,
   "id": "5f880a3c-6d21-4386-adfd-d99f028012f8",
   "metadata": {},
   "outputs": [],
   "source": [
    "# spark.stop()"
   ]
  }
 ],
 "metadata": {
  "kernelspec": {
   "display_name": "Python 3 (ipykernel)",
   "language": "python",
   "name": "python3"
  },
  "language_info": {
   "codemirror_mode": {
    "name": "ipython",
    "version": 3
   },
   "file_extension": ".py",
   "mimetype": "text/x-python",
   "name": "python",
   "nbconvert_exporter": "python",
   "pygments_lexer": "ipython3",
   "version": "3.11.6"
  }
 },
 "nbformat": 4,
 "nbformat_minor": 5
}
