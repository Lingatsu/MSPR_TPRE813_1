{
 "cells": [
  {
   "cell_type": "code",
   "execution_count": 16,
   "id": "9c336e06-727b-4555-8a39-220c844fb312",
   "metadata": {},
   "outputs": [],
   "source": [
    "from pyspark.sql import functions as F"
   ]
  },
  {
   "cell_type": "code",
   "execution_count": 3,
   "id": "206080a3-5991-482e-8745-7bd001e8889a",
   "metadata": {},
   "outputs": [],
   "source": [
    "from pyspark.sql import SparkSession\n",
    "\n",
    "properties = {\n",
    "    \"user\": \"root\",\n",
    "    \"password\": \"root\",\n",
    "    \"driver\": \"com.mysql.cj.jdbc.Driver\"\n",
    "}\n",
    "\n",
    "spark = SparkSession.builder \\\n",
    "    .appName(\"example\") \\\n",
    "    .config(\"spark.dynamicAllocation.enabled\", \"true\") \\\n",
    "    .config(\"spark.dynamicAllocation.minExecutors\", \"1\") \\\n",
    "    .config(\"spark.dynamicAllocation.maxExecutors\", \"50\") \\\n",
    "    .config(\"spark.driver.memory\", \"8g\") \\\n",
    "    .config(\"spark.executor.memory\", \"8g\") \\\n",
    "    .config(\"spark.executor.instances\", \"4\") \\\n",
    "    .config(\"spark.executor.cores\", \"2\") \\\n",
    "    .config(\"spark.memory.fraction\", \"0.8\") \\\n",
    "    .getOrCreate()"
   ]
  },
  {
   "cell_type": "code",
   "execution_count": 4,
   "id": "9963b543-0331-434d-aaa8-421bebd16f09",
   "metadata": {},
   "outputs": [],
   "source": [
    "df_annee = spark.read.jdbc(url=\"jdbc:mysql://mysql:3306/mspr1\", table=\"annee\", properties=properties).dropna()\n",
    "df_criminalite = spark.read.jdbc(url=\"jdbc:mysql://mysql:3306/mspr1\", table=\"criminalite\", properties=properties).dropna()\n",
    "df_commune = spark.read.jdbc(url=\"jdbc:mysql://mysql:3306/mspr1\", table=\"commune\", properties=properties).dropna()\n",
    "df_demographie = spark.read.jdbc(url=\"jdbc:mysql://mysql:3306/mspr1\", table=\"demographie\", properties=properties).dropna()\n",
    "df_emploi = spark.read.jdbc(url=\"jdbc:mysql://mysql:3306/mspr1\", table=\"emploi\", properties=properties).dropna()\n",
    "df_resultats_elections = spark.read.jdbc(url=\"jdbc:mysql://mysql:3306/mspr1\", table=\"resultats_elections_nuance\", properties=properties).dropna()\n",
    "df_type_election = spark.read.jdbc(url=\"jdbc:mysql://mysql:3306/mspr1\", table=\"type_election\", properties=properties).dropna()"
   ]
  },
  {
   "cell_type": "code",
   "execution_count": 55,
   "id": "3c69c5ca-7c5a-46da-9784-597674979e7a",
   "metadata": {},
   "outputs": [],
   "source": [
    "df = df_resultats_elections.join(df_criminalite, on=[\"id_criminalite\"], how=\"outer\")\n",
    "df = df.join(df_annee, on=[\"id_annee\"], how=\"outer\")\n",
    "df = df.join(df_commune, on=[\"id_commune\"], how=\"outer\")\n",
    "df = df.join(df_demographie, on=[\"id_demographie\"], how=\"outer\")\n",
    "df = df.join(df_emploi, on=[\"id_emploi\"], how=\"outer\")\n",
    "df = df.join(df_type_election, on=[\"id_type_election\"], how=\"outer\").cache()\n",
    "# .join(df_elections, on=[\"codecommune\", \"annee\"], how=\"outer\").join(df_communes, on=[\"codecommune\"], how=\"outer\").cache()"
   ]
  },
  {
   "cell_type": "code",
   "execution_count": 58,
   "id": "75571a86-2f2a-4d46-a2a2-e24be0ab0330",
   "metadata": {},
   "outputs": [
    {
     "data": {
      "text/plain": [
       "DataFrame[id_type_election: int, type_election: string, tour: string]"
      ]
     },
     "execution_count": 58,
     "metadata": {},
     "output_type": "execute_result"
    }
   ],
   "source": [
    "df_annee.unpersist()\n",
    "df_criminalite.unpersist()\n",
    "df_commune.unpersist()\n",
    "df_demographie.unpersist()\n",
    "df_resultats_elections.unpersist()\n",
    "df_type_election.unpersist()"
   ]
  },
  {
   "cell_type": "code",
   "execution_count": 59,
   "id": "0401b96a-4d23-4320-a29e-60c1a119a8db",
   "metadata": {},
   "outputs": [],
   "source": [
    "df_toutes_infos = df.dropna().cache()"
   ]
  },
  {
   "cell_type": "code",
   "execution_count": 60,
   "id": "d143de9d-adc9-4aa8-82fa-51686cc7acc7",
   "metadata": {},
   "outputs": [
    {
     "data": {
      "text/plain": [
       "309431"
      ]
     },
     "execution_count": 60,
     "metadata": {},
     "output_type": "execute_result"
    }
   ],
   "source": [
    "df_toutes_infos.count()"
   ]
  },
  {
   "cell_type": "code",
   "execution_count": 61,
   "id": "c5eaa884-db93-442e-9582-a1847ff18e51",
   "metadata": {},
   "outputs": [],
   "source": [
    "# df_filtered_year = df_toutes_infos.filter(F.col(\"annee\") > 1990).cache()"
   ]
  },
  {
   "cell_type": "code",
   "execution_count": 63,
   "id": "7d9cc2e8-05f9-4d67-aabf-801b386e35a4",
   "metadata": {},
   "outputs": [
    {
     "data": {
      "text/plain": [
       "3091"
      ]
     },
     "execution_count": 63,
     "metadata": {},
     "output_type": "execute_result"
    }
   ],
   "source": [
    "df_filtered_year.sample(0.01).count()"
   ]
  },
  {
   "cell_type": "code",
   "execution_count": null,
   "id": "98b77aa0-a74c-4075-999b-2bb92e6f0dd4",
   "metadata": {},
   "outputs": [],
   "source": [
    "import matplotlib.pyplot as plt\n",
    "import seaborn as sns"
   ]
  },
  {
   "cell_type": "code",
   "execution_count": 64,
   "id": "6a654cca-0d20-4186-9b14-8d2bcb42f9ae",
   "metadata": {},
   "outputs": [],
   "source": [
    "# Assuming you have a Pandas DataFrame to convert the Spark DataFrame into Pandas for plotting\n",
    "df_pandas = df_filtered_year.sample(0.0045).toPandas()"
   ]
  },
  {
   "cell_type": "code",
   "execution_count": 66,
   "id": "211c7777-e686-40ce-8bf8-96d2ab32c03c",
   "metadata": {},
   "outputs": [
    {
     "data": {
      "image/png": "[encoded data removed]",
      "text/plain": [
       "<Figure size 600x600 with 1 Axes>"
      ]
     },
     "metadata": {},
     "output_type": "display_data"
    }
   ],
   "source": [
    "plt.figure(figsize=(6, 6))\n",
    "\n",
    "plt.subplot(1,1,1)\n",
    "sns.histplot(df_pandas['agriculteurs'], kde=True, bins = 20)\n",
    "plt.title(\"agriculteurs\")\n",
    "\n",
    "plt.show()"
   ]
  },
  {
   "cell_type": "code",
   "execution_count": null,
   "id": "1ff8b3ec-bb75-465e-aafc-741dc3b21699",
   "metadata": {},
   "outputs": [],
   "source": [
    "X = df_pandas[[\"population\", \"\", \"\", \"\", \"\", \"\", \"\", \"\", \"\"]]"
   ]
  },
  {
   "cell_type": "code",
   "execution_count": 5,
   "id": "5f880a3c-6d21-4386-adfd-d99f028012f8",
   "metadata": {},
   "outputs": [],
   "source": [
    "# spark.stop()"
   ]
  },
  {
   "cell_type": "code",
   "execution_count": null,
   "id": "5ed0e92e-44cd-46c3-b555-b065c1e43094",
   "metadata": {},
   "outputs": [],
   "source": [
    "from pyspark.ml.feature import VectorAssembler\n",
    "\n",
    "feature_columns = [\"pourcentage_voix_inscrits\", \"autre_pourcentage_voix_inscrits\", \"egauche_pourcentage_voix_inscrits\", \"gauche_pourcentage_voix_inscrits\", \"cgauche_pourcentage_voix_inscrits\", \"centre_pourcentage_voix_inscrits\", \"cdroit_pourcentage_voix_inscrits\", \"droite_pourcentage_voix_inscrits\", \"edroite_pourcentage_voix_inscrits\"]\n",
    "\n",
    "assembler = VectorAssembler(inputCols=feature_columns, outputCol=\"features\")\n",
    "\n",
    "df = assembler.transform(df)"
   ]
  },
  {
   "cell_type": "code",
   "execution_count": null,
   "id": "86f777de-ff5b-4927-87b8-93a1bca55728",
   "metadata": {},
   "outputs": [],
   "source": [
    "train_data, test_data = df.randomSplit([0.8, 0.2], seed=1234)\n",
    "\n",
    "# Create a Linear Regression model\n",
    "lr = LinearRegression(featuresCol='features', labelCol='label_column')  # Replace 'label_column' with your target variable\n",
    "\n",
    "# Fit the model on the training data\n",
    "lr_model = lr.fit(train_data)"
   ]
  },
  {
   "cell_type": "code",
   "execution_count": null,
   "id": "7ed79abc-d5c6-4735-a69b-b85fb3861c24",
   "metadata": {},
   "outputs": [],
   "source": [
    "from pyspark.ml.feature import StandardScaler\n",
    "from pyspark.ml.linalg import Vectors\n",
    "\n",
    "# Create a Spark session\n",
    "spark = SparkSession.builder.appName(\"Scaling\").getOrCreate()\n",
    "\n",
    "# Sample Data\n",
    "data = [(0, Vectors.dense([10.0, 100.0, 1000.0])),\n",
    "        (1, Vectors.dense([20.0, 200.0, 2000.0])),\n",
    "        (2, Vectors.dense([30.0, 300.0, 3000.0]))]\n",
    "df = spark.createDataFrame(data, [\"id\", \"features\"])\n",
    "\n",
    "\n",
    "scaler = StandardScaler(inputCol=\"features\", outputCol=\"scaled_features\", withMean=True, withStd=True)\n",
    "\n",
    "# Fit the scaler and transform the data\n",
    "scaler_model = scaler.fit(df)\n",
    "scaled_df = scaler_model.transform(df)"
   ]
  },
  {
   "cell_type": "code",
   "execution_count": null,
   "id": "7e202d19-5c2f-47d6-83d1-269a2040ea8c",
   "metadata": {},
   "outputs": [],
   "source": [
    "from pyspark.ml.regression import LinearRegression\n",
    "from pyspark.ml.evaluation import RegressionEvaluator"
   ]
  }
 ],
 "metadata": {
  "kernelspec": {
   "display_name": "Python 3 (ipykernel)",
   "language": "python",
   "name": "python3"
  },
  "language_info": {
   "codemirror_mode": {
    "name": "ipython",
    "version": 3
   },
   "file_extension": ".py",
   "mimetype": "text/x-python",
   "name": "python",
   "nbconvert_exporter": "python",
   "pygments_lexer": "ipython3",
   "version": "3.11.6"
  }
 },
 "nbformat": 4,
 "nbformat_minor": 5
}
