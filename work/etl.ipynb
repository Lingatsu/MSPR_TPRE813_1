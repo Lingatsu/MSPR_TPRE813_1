{
 "cells": [
  {
   "cell_type": "markdown",
   "id": "bb4d2352-4f19-463e-a636-b92501406fad",
   "metadata": {},
   "source": [
    "# TEPEDELEN Léo DELLARICA Steven BARBIN Kevin"
   ]
  },
  {
   "cell_type": "markdown",
   "id": "2e3c9a99-8d49-4b9e-b34e-4b254127ad08",
   "metadata": {},
   "source": [
    "# Projet EISI1 Capgemini MSPRTPRE813_1"
   ]
  },
  {
   "cell_type": "markdown",
   "id": "6ac20311-d226-41ef-a117-bb4e7c29091c",
   "metadata": {},
   "source": [
    "Ce notebook Python est le rapport détaillé et l'ETL de notre projet. La suite du rapport se situe après l'ETL, nous y détaillons le fonctionnement du reste du système."
   ]
  },
  {
   "cell_type": "markdown",
   "id": "b1a59e53-c647-4b41-aac5-9a9f88e3abb3",
   "metadata": {},
   "source": [
    "Il a été réalisé à l'aide de Docker afin d'en faciliter le déploiement pour tester et collaborer."
   ]
  },
  {
   "cell_type": "markdown",
   "id": "0191696b-d940-4936-98d1-c92bc9e47e35",
   "metadata": {},
   "source": [
    "Vous trouverez tout ce qu'il vous faut pour essayer le programme sur votre machine dans le fichier README de ce repository github :"
   ]
  },
  {
   "cell_type": "markdown",
   "id": "86c88f7a-d9fd-4c32-a10d-3982d83f5b91",
   "metadata": {},
   "source": [
    "# Extraire les données dans un DataFrame pySpark"
   ]
  },
  {
   "cell_type": "code",
   "execution_count": 1,
   "id": "c9e1c85a-64e5-4c3a-b22c-dc9951b32ec7",
   "metadata": {},
   "outputs": [],
   "source": [
    "import pandas as pd"
   ]
  },
  {
   "cell_type": "code",
   "execution_count": 2,
   "id": "5c5ee84e-7c2a-415b-b3f4-42d7a2d0016a",
   "metadata": {},
   "outputs": [],
   "source": [
    "from pyspark.sql import functions as F"
   ]
  },
  {
   "cell_type": "code",
   "execution_count": 3,
   "id": "984230eb-ee17-4ac4-b737-202c09251c3c",
   "metadata": {},
   "outputs": [],
   "source": [
    "from pyspark.sql import SparkSession\n",
    "from pyspark.sql.functions import col\n",
    "\n",
    "# Créer une session Spark\n",
    "spark = SparkSession.builder.appName(\"example\") \\\n",
    "    .config(\"spark.dynamicAllocation.enabled\", \"true\") \\\n",
    "    .config(\"spark.dynamicAllocation.minExecutors\", \"1\") \\\n",
    "    .config(\"spark.dynamicAllocation.maxExecutors\", \"50\") \\\n",
    "    .config(\"spark.driver.memory\", \"8g\") \\\n",
    "    .config(\"spark.executor.memory\", \"8g\") \\\n",
    "    .config(\"spark.executor.instances\", \"4\") \\\n",
    "    .config(\"spark.executor.cores\", \"2\") \\\n",
    "    .config(\"spark.memory.fraction\", \"0.8\") \\\n",
    "    .getOrCreate()\n",
    "\n",
    "spark.conf.set(\"spark.sql.execution.arrow.pyspark.enabled\", \"true\")"
   ]
  },
  {
   "cell_type": "code",
   "execution_count": 4,
   "id": "52bd12d3-6a49-4382-a62f-8ce5a20fbc4c",
   "metadata": {},
   "outputs": [],
   "source": [
    "delinquance_brut = pd.read_parquet(\"https://www.dropbox.com/scl/fi/gnuphrytsuw0d1rx2ix0i/donnee-comm-data.gouv-parquet-2023-geographie2024-produit-le2024-07-05.parquet?rlkey=hm2t98tm3vyzks7q0ehaoh94e&st=4gttfgqe&dl=1\", engine='pyarrow')"
   ]
  },
  {
   "cell_type": "code",
   "execution_count": 5,
   "id": "508ab1af-f3ea-48de-a764-df238c2a1378",
   "metadata": {},
   "outputs": [],
   "source": [
    "delinquance_brut.drop(columns=['millPOP','millLOG','classe', 'unité.de.compte',\t'valeur.publiée', 'complementinfoval', 'complementinfotaux', 'POP', 'LOG'], inplace=True)"
   ]
  },
  {
   "cell_type": "code",
   "execution_count": 6,
   "id": "cd4e940d-b70e-4aff-a8e2-14848c0de48d",
   "metadata": {},
   "outputs": [],
   "source": [
    "delinquance_brut.rename(columns={'CODGEO_2024' : 'codecommune', 'faits':'crimes_delits'}, inplace=True)"
   ]
  },
  {
   "cell_type": "code",
   "execution_count": 7,
   "id": "fc631808-0e7e-494e-8862-ed78f5e88ae1",
   "metadata": {},
   "outputs": [],
   "source": [
    "delinquance_brut.dropna(subset=['annee'], inplace=True)"
   ]
  },
  {
   "cell_type": "code",
   "execution_count": 8,
   "id": "c069e048-d72b-47cb-9367-243902fa1d19",
   "metadata": {},
   "outputs": [],
   "source": [
    "delinquance_brut['codecommune'] = delinquance_brut['codecommune'].str.replace('[^0-9]', '', regex=True).astype('int64')"
   ]
  },
  {
   "cell_type": "code",
   "execution_count": 9,
   "id": "92628cd8-8e37-4741-aa1c-472614652de1",
   "metadata": {},
   "outputs": [],
   "source": [
    "delinquance_brut['annee'] = delinquance_brut['annee'].astype(str)\n",
    "delinquance_brut['annee'] = delinquance_brut['annee'].str.replace('.0','')\n",
    "delinquance_brut['annee'] = '20' + delinquance_brut['annee']\n",
    "delinquance_brut['annee'] = delinquance_brut['annee'].str.replace('[^0-9]', '', regex=True).astype('int64')"
   ]
  },
  {
   "cell_type": "code",
   "execution_count": 10,
   "id": "60d3325f-6278-4efb-92e6-3f5873c7f2db",
   "metadata": {},
   "outputs": [],
   "source": [
    "delinquance_brut = delinquance_brut.groupby(['codecommune','annee'])['crimes_delits'].sum().reset_index()"
   ]
  },
  {
   "cell_type": "code",
   "execution_count": 11,
   "id": "360107cb-5ded-448a-a1f3-d557d7370e10",
   "metadata": {},
   "outputs": [],
   "source": [
    "delinquance_brut['crimes_delits'] = delinquance_brut['crimes_delits'].astype('int64')"
   ]
  },
  {
   "cell_type": "code",
   "execution_count": 12,
   "id": "cf3f312e-bf63-4bef-b96e-17d8d3e3cbf9",
   "metadata": {},
   "outputs": [],
   "source": [
    "delinquance_brut = spark.createDataFrame(delinquance_brut)"
   ]
  },
  {
   "cell_type": "code",
   "execution_count": 13,
   "id": "77ec27ec-41e7-427f-bb71-720b7d5ec69c",
   "metadata": {},
   "outputs": [
    {
     "name": "stdout",
     "output_type": "stream",
     "text": [
      "root\n",
      " |-- codecommune: long (nullable = true)\n",
      " |-- annee: long (nullable = true)\n",
      " |-- crimes_delits: long (nullable = true)\n",
      "\n"
     ]
    }
   ],
   "source": [
    "delinquance_brut.printSchema()"
   ]
  },
  {
   "cell_type": "code",
   "execution_count": 14,
   "id": "e7f4e950-0266-4646-ba31-c41c6a547b79",
   "metadata": {},
   "outputs": [],
   "source": [
    "# candidats_results.parquet\n",
    "df_election = pd.read_parquet('https://www.dropbox.com/scl/fi/04jpbz2gqcax0y8ubetz8/candidats_results.parquet?rlkey=cvs3816ot12wxg41ss02q4aag&st=0r4ilpa8&dl=1')"
   ]
  },
  {
   "cell_type": "code",
   "execution_count": 15,
   "id": "b2f7dae5-411a-40b0-a218-5954dc0114bb",
   "metadata": {},
   "outputs": [],
   "source": [
    "def fillNuance(df, col, value, nuance):\n",
    "    df.loc[df[col] == value, [\"Nuance\"]] = nuance"
   ]
  },
  {
   "cell_type": "code",
   "execution_count": 16,
   "id": "af41b983-5ec2-4f07-88b6-4b9553ec1cfa",
   "metadata": {},
   "outputs": [],
   "source": [
    "missing_nuances_libelle = {\n",
    "    \"ALLIANCE JAUNE\":\"EGAUCHE\",\n",
    "    \"ALLONS ENFANTS\":\"GAUCHE\",\n",
    "    \"DEBOUT LA FRANCE\":\"EDROITE\",\n",
    "    \"DÉCROISSANCE 2019\":\"EGAUCHE\",\n",
    "    \"DÉMOCRATIE REPRÉSENTATIVE\":\"EGAUCHE\",\n",
    "    \"ENSEMBLE PATRIOTES\":\"EDROITE\",\n",
    "    \"ENSEMBLE POUR LE FREXIT\":\"EDROITE\",\n",
    "    \"ENVIE D'EUROPE\":\"GAUCHE\",\n",
    "    \"ESPERANTO\":\"EGAUCHE\",\n",
    "    \"EUROPE AU SERVICE PEUPLES\":\"GAUCHE\",\n",
    "    \"EUROPE ÉCOLOGIE\":\"GAUCHE\",\n",
    "    \"INITIATIVE CITOYENNE\":\"EGAUCHE\",\n",
    "    \"LA FRANCE INSOUMISE\":\"GAUCHE\",\n",
    "    \"LA LIGNE CLAIRE\":\"EDROITE\",\n",
    "    \"LES EUROPÉENS\":\"CENTRE\",\n",
    "    \"LES OUBLIES DE L'EUROPE\":\"CENTRE\",\n",
    "    \"LISTE CITOYENNE\":\"GAUCHE\",\n",
    "    \"LISTE DE LA RECONQUÊTE\":\"EDROITE\",\n",
    "    \"LUTTE OUVRIÈRE\":\"EGAUCHE\",\n",
    "    \"NEUTRE ET ACTIF\":\"EDROITE\",\n",
    "    \"PACE\":\"GAUCHE\",\n",
    "    \"PARTI ANIMALISTE\":\"CENTRE\",\n",
    "    \"PARTI FED. EUROPÉEN\":\"EDROITE\",\n",
    "    \"PARTI PIRATE\":\"GAUCHE\",\n",
    "    \"POUR L'EUROPE DES GENS\":\"EGAUCHE\",\n",
    "    \"PRENEZ LE POUVOIR\":\"EDROITE\",\n",
    "    \"RENAISSANCE\":\"CENTRE\",\n",
    "    \"RÉVOLUTIONNAIRE\":\"EGAUCHE\",\n",
    "    \"UDLEF\":\"DROITE\",\n",
    "    \"UNE FRANCE ROYALE\":\"EDROITE\",\n",
    "    \"UNION DROITE-CENTRE\":\"CDROIT\",\n",
    "    \"URGENCE ÉCOLOGIE\":\"EGAUCHE\",\n",
    "    \"À VOIX ÉGALES\":\"GAUCHE\",\n",
    "    \"ÉVOLUTION CITOYENNE\":\"GAUCHE\"\n",
    "}"
   ]
  },
  {
   "cell_type": "code",
   "execution_count": 17,
   "id": "dd41c302-2483-4896-b331-9101470faa46",
   "metadata": {},
   "outputs": [],
   "source": [
    "missing_nuances_nom = {\n",
    "    \"ARTHAUD\":\"EGAUCHE\",\n",
    "    \"ASSELINEAU\":\"EDROITE\",\n",
    "    \"CHEMINADE\":\"EDROITE\",\n",
    "    \"DUPONT-AIGNAN\":\"EDROITE\",\n",
    "    \"FILLON\":\"DROITE\",\n",
    "    \"HAMON\":\"GAUCHE\",\n",
    "    \"HIDALGO\":\"GAUCHE\",\n",
    "    \"JADOT\":\"GAUCHE\",\n",
    "    \"LASSALLE\":\"DROITE\",\n",
    "    \"LE PEN\":\"EDROITE\",\n",
    "    \"MACRON\":\"CENTRE\",\n",
    "    \"MÉLENCHON\":\"GAUCHE\",\n",
    "    \"POUTOU\":\"EGAUCHE\",\n",
    "    \"PÉCRESSE\":\"DROITE\",\n",
    "    \"ROUSSEL\":\"EGAUCHE\",\n",
    "    \"ZEMMOUR\":\"EDROITE\"\n",
    "}"
   ]
  },
  {
   "cell_type": "code",
   "execution_count": 18,
   "id": "58c22dc5-9d42-472d-89d4-f6e282796b50",
   "metadata": {},
   "outputs": [],
   "source": [
    "for libelle, nuance in missing_nuances_libelle.items():\n",
    "    fillNuance(df_election, \"Libellé Abrégé Liste\", libelle, nuance)\n",
    "\n",
    "for nom, nuance in missing_nuances_nom.items():\n",
    "    fillNuance(df_election, \"Nom\", nom, nuance)"
   ]
  },
  {
   "cell_type": "code",
   "execution_count": 19,
   "id": "56d0d190-119c-4d44-9d02-4efce095008f",
   "metadata": {},
   "outputs": [],
   "source": [
    "import urllib.request\n",
    "import json\n",
    "with urllib.request.urlopen('https://www.dropbox.com/scl/fi/trxktezbq12phyqptj545/nuances.json?rlkey=5u4368x6evhct81slh20ffzii&st=mw31zc2i&dl=1') as outfile:\n",
    "     dic_nuances = json.load(outfile)"
   ]
  },
  {
   "cell_type": "code",
   "execution_count": 20,
   "id": "763d842d-76f2-466c-9839-2b46ef0a1ece",
   "metadata": {},
   "outputs": [],
   "source": [
    "def replaceValue(nom_nuance, dic_nuances):\n",
    "    for nuance, list_nom_nuance in dic_nuances.items():\n",
    "        if nom_nuance in list_nom_nuance:\n",
    "            return nuance\n",
    "    return nom_nuance\n",
    "\n",
    "df_election['Nuance'] = df_election['Nuance'].apply(lambda nom_nuance: replaceValue(nom_nuance, dic_nuances))"
   ]
  },
  {
   "cell_type": "code",
   "execution_count": 21,
   "id": "825ac99d-f310-4c87-afd9-8cb093ac7a92",
   "metadata": {},
   "outputs": [],
   "source": [
    "del missing_nuances_nom\n",
    "del missing_nuances_libelle"
   ]
  },
  {
   "cell_type": "code",
   "execution_count": 22,
   "id": "7c8a4960-87f1-446d-9e55-c0b05aa953be",
   "metadata": {},
   "outputs": [],
   "source": [
    "df_election = df_election[~df_election[\"id_election\"].str.contains(r'muni|dpmt|regi|cant', na=False)]"
   ]
  },
  {
   "cell_type": "code",
   "execution_count": 23,
   "id": "c675ca07-723a-4a00-a23a-199f77f71347",
   "metadata": {},
   "outputs": [],
   "source": [
    "df_election = df_election[[\"id_election\",\"Code du département\",\"Code de la commune\", \"Voix\",\"Code du b.vote\", \"% Voix/Ins\", \"Nuance\"]]"
   ]
  },
  {
   "cell_type": "code",
   "execution_count": 24,
   "id": "333a8e01-79a5-4fa6-9123-8d0994836b20",
   "metadata": {},
   "outputs": [],
   "source": [
    "df_election[[\"annee\", \"type_election\", \"tour\"]] = df_election[\"id_election\"].str.split(\"_\", expand=True)"
   ]
  },
  {
   "cell_type": "code",
   "execution_count": 25,
   "id": "fa76e86f-046e-4394-8d57-696fe6faea51",
   "metadata": {},
   "outputs": [],
   "source": [
    "# df_election[\"Code de la commune\"] = df_election.apply(lambda row: row[\"Code du département\"] + row[\"Code de la commune\"], axis=1)\n",
    "df_election['Code de la commune'] = df_election['Code du département'] + df_election['Code de la commune']"
   ]
  },
  {
   "cell_type": "code",
   "execution_count": 26,
   "id": "1cd52990-29b6-49a5-a08e-fa347516c363",
   "metadata": {},
   "outputs": [],
   "source": [
    "df_election[\"Code de la commune\"] = pd.to_numeric(df_election[\"Code de la commune\"], errors='coerce')"
   ]
  },
  {
   "cell_type": "code",
   "execution_count": 27,
   "id": "2504d2c1-cbcd-4707-962e-298b47fb8c61",
   "metadata": {},
   "outputs": [],
   "source": [
    "df_election.dropna(subset=[\"Code du département\", \"Code de la commune\"], inplace=True)\n",
    "df_election[\"Code de la commune\"] = df_election[\"Code de la commune\"].astype(int)"
   ]
  },
  {
   "cell_type": "code",
   "execution_count": 28,
   "id": "0a8b2da7-11fb-440a-bb40-d147c859524b",
   "metadata": {},
   "outputs": [],
   "source": [
    "df_election.rename(columns={\n",
    "    \"Code du département\":\"dep\",\n",
    "    \"Code de la commune\":\"codecommune\",\n",
    "    \"Code du b.vote\":\"bureau\",\n",
    "    \"% Voix/Ins\":\"pourcentage_voix_inscrits\",\n",
    "    \"Nuance\":\"nuance\",\n",
    "    \"Voix\":\"nb_voix\"\n",
    "}, inplace=True)"
   ]
  },
  {
   "cell_type": "code",
   "execution_count": 29,
   "id": "48f318f6-affd-4540-abbe-8c2ac4c8f464",
   "metadata": {},
   "outputs": [],
   "source": [
    "df_election = spark.createDataFrame(df_election).cache()"
   ]
  },
  {
   "cell_type": "code",
   "execution_count": 30,
   "id": "138d2d75-3aa1-4115-bc66-571bd30c762a",
   "metadata": {},
   "outputs": [],
   "source": [
    "df_election = df_election.groupBy(\"id_election\", \"codecommune\", \"bureau\", \"annee\", \"type_election\", \"tour\").pivot(\"nuance\").agg(F.sum(\"pourcentage_voix_inscrits\")) \\\n",
    "                        .select(\n",
    "                            \"id_election\",\n",
    "                            \"codecommune\",\n",
    "                            \"bureau\",\n",
    "                            \"annee\",\n",
    "                            \"type_election\",\n",
    "                            \"tour\",\n",
    "                            col(\"AUTRE\").alias(\"autre_pourcentage_voix_inscrits\"),\n",
    "                            col(\"EGAUCHE\").alias(\"egauche_pourcentage_voix_inscrits\"),\n",
    "                            col(\"GAUCHE\").alias(\"gauche_pourcentage_voix_inscrits\"),\n",
    "                            col(\"CGAUCHE\").alias(\"cgauche_pourcentage_voix_inscrits\"),\n",
    "                            col(\"CENTRE\").alias(\"centre_pourcentage_voix_inscrits\"),\n",
    "                            col(\"CDROIT\").alias(\"cdroit_pourcentage_voix_inscrits\"),\n",
    "                            col(\"DROITE\").alias(\"droite_pourcentage_voix_inscrits\"),\n",
    "                            col(\"EDROITE\").alias(\"edroite_pourcentage_voix_inscrits\")\n",
    "                       )\\\n",
    "                        .join(\n",
    "                            df_election.groupBy(\"id_election\", \"codecommune\", \"bureau\", \"annee\", \"type_election\", \"tour\").pivot(\"nuance\").agg(F.sum(\"nb_voix\"))\\\n",
    "                            .select(\n",
    "                                \"id_election\",\n",
    "                                \"codecommune\",\n",
    "                                \"bureau\",\n",
    "                                \"annee\",\n",
    "                                \"type_election\",\n",
    "                                \"tour\",\n",
    "                                col(\"AUTRE\").alias(\"autre_nb_voix\"),\n",
    "                                col(\"EGAUCHE\").alias(\"egauche_nb_voix\"),\n",
    "                                col(\"GAUCHE\").alias(\"gauche_nb_voix\"),\n",
    "                                col(\"CGAUCHE\").alias(\"cgauche_nb_voix\"),\n",
    "                                col(\"CENTRE\").alias(\"centre_nb_voix\"),\n",
    "                                col(\"CDROIT\").alias(\"cdroit_nb_voix\"),\n",
    "                                col(\"DROITE\").alias(\"droite_nb_voix\"),\n",
    "                                col(\"EDROITE\").alias(\"edroite_nb_voix\")\n",
    "                            ), [\"id_election\", \"codecommune\", \"bureau\", \"annee\", \"type_election\", \"tour\"]\n",
    "                        )"
   ]
  },
  {
   "cell_type": "code",
   "execution_count": 31,
   "id": "a138ed2d-de19-423a-a7d4-5911a22f79c0",
   "metadata": {},
   "outputs": [],
   "source": [
    "# for col in df_election_test.columns[6:6+8]:\n",
    "#     df_election_test = df_election_test.withColumnRenamed(col, col.lower() + \"_pourcentage\")\n",
    "\n",
    "\n",
    "# for col in df_election_test.columns[6+8:]:\n",
    "#     df_election_test = df_election_test.withColumnRenamed(col, col.lower() + \"_nb_voix\")"
   ]
  },
  {
   "cell_type": "code",
   "execution_count": 32,
   "id": "4db4827b-b361-4ea9-9750-1c7cd7a7f93a",
   "metadata": {},
   "outputs": [
    {
     "name": "stdout",
     "output_type": "stream",
     "text": [
      "root\n",
      " |-- id_election: string (nullable = true)\n",
      " |-- codecommune: long (nullable = true)\n",
      " |-- bureau: string (nullable = true)\n",
      " |-- annee: string (nullable = true)\n",
      " |-- type_election: string (nullable = true)\n",
      " |-- tour: string (nullable = true)\n",
      " |-- autre_pourcentage_voix_inscrits: double (nullable = true)\n",
      " |-- egauche_pourcentage_voix_inscrits: double (nullable = true)\n",
      " |-- gauche_pourcentage_voix_inscrits: double (nullable = true)\n",
      " |-- cgauche_pourcentage_voix_inscrits: double (nullable = true)\n",
      " |-- centre_pourcentage_voix_inscrits: double (nullable = true)\n",
      " |-- cdroit_pourcentage_voix_inscrits: double (nullable = true)\n",
      " |-- droite_pourcentage_voix_inscrits: double (nullable = true)\n",
      " |-- edroite_pourcentage_voix_inscrits: double (nullable = true)\n",
      " |-- autre_nb_voix: double (nullable = true)\n",
      " |-- egauche_nb_voix: double (nullable = true)\n",
      " |-- gauche_nb_voix: double (nullable = true)\n",
      " |-- cgauche_nb_voix: double (nullable = true)\n",
      " |-- centre_nb_voix: double (nullable = true)\n",
      " |-- cdroit_nb_voix: double (nullable = true)\n",
      " |-- droite_nb_voix: double (nullable = true)\n",
      " |-- edroite_nb_voix: double (nullable = true)\n",
      "\n"
     ]
    }
   ],
   "source": [
    "df_election.printSchema()"
   ]
  },
  {
   "cell_type": "code",
   "execution_count": 33,
   "id": "ab33ab42-3335-4964-b352-b67dcf5e5b58",
   "metadata": {},
   "outputs": [],
   "source": [
    "colonnes_a_remplir = [\n",
    "    \"autre_pourcentage_voix_inscrits\",\n",
    "    \"egauche_pourcentage_voix_inscrits\",\n",
    "    \"gauche_pourcentage_voix_inscrits\",\n",
    "    \"cgauche_pourcentage_voix_inscrits\",\n",
    "    \"centre_pourcentage_voix_inscrits\",\n",
    "    \"cdroit_pourcentage_voix_inscrits\",\n",
    "    \"droite_pourcentage_voix_inscrits\",\n",
    "    \"edroite_pourcentage_voix_inscrits\",\n",
    "    \"autre_nb_voix\",\n",
    "    \"egauche_nb_voix\",\n",
    "    \"gauche_nb_voix\",\n",
    "    \"cgauche_nb_voix\",\n",
    "    \"centre_nb_voix\",\n",
    "    \"cdroit_nb_voix\",\n",
    "    \"droite_nb_voix\",\n",
    "    \"edroite_nb_voix\"\n",
    "]\n",
    "df_election = df_election.fillna(0, subset=colonnes_a_remplir)\n",
    "\n",
    "del colonnes_a_remplir\n",
    "\n",
    "df_election = df_election.withColumn(\"nb_voix\", F.expr(\n",
    "    \"autre_nb_voix \\\n",
    "    + egauche_nb_voix \\\n",
    "    + gauche_nb_voix \\\n",
    "    + cgauche_nb_voix \\\n",
    "    + centre_nb_voix \\\n",
    "    + cdroit_nb_voix \\\n",
    "    + droite_nb_voix \\\n",
    "    + edroite_nb_voix\"\n",
    "))\n",
    "\n",
    "df_election = df_election.withColumn(\"pourcentage_voix_inscrits\", F.expr(\n",
    "    \"autre_pourcentage_voix_inscrits \\\n",
    "    + egauche_pourcentage_voix_inscrits \\\n",
    "    + gauche_pourcentage_voix_inscrits \\\n",
    "    + cgauche_pourcentage_voix_inscrits \\\n",
    "    + centre_pourcentage_voix_inscrits \\\n",
    "    + cdroit_pourcentage_voix_inscrits \\\n",
    "    + droite_pourcentage_voix_inscrits \\\n",
    "    + edroite_pourcentage_voix_inscrits\"\n",
    "))"
   ]
  },
  {
   "cell_type": "code",
   "execution_count": 34,
   "id": "0c42b12a-31ef-43f6-9f4e-00f20083ed93",
   "metadata": {},
   "outputs": [],
   "source": [
    "df_election = df_election.withColumn(\"nb_inscrits\", F.round(F.expr(\"(nb_voix * 100) / pourcentage_voix_inscrits\"), 0))"
   ]
  },
  {
   "cell_type": "code",
   "execution_count": 35,
   "id": "493be3f7-f86f-4bab-a66e-a2343568006e",
   "metadata": {},
   "outputs": [],
   "source": [
    "df_election = df_election.drop(\"bureau\").groupBy(\"id_election\", \"codecommune\", \"annee\", \"type_election\", \"tour\") \\\n",
    "    .agg(\n",
    "        F.sum(\"nb_inscrits\").alias(\"nb_inscrits\"),\n",
    "        F.sum(\"nb_voix\").alias(\"nb_voix\"),\n",
    "        F.sum(\"autre_nb_voix\").alias(\"autre_nb_voix\"),\n",
    "        F.sum(\"egauche_nb_voix\").alias(\"egauche_nb_voix\"),\n",
    "        F.sum(\"gauche_nb_voix\").alias(\"gauche_nb_voix\"),\n",
    "        F.sum(\"cgauche_nb_voix\").alias(\"cgauche_nb_voix\"),\n",
    "        F.sum(\"centre_nb_voix\").alias(\"centre_nb_voix\"),\n",
    "        F.sum(\"cdroit_nb_voix\").alias(\"cdroit_nb_voix\"),\n",
    "        F.sum(\"droite_nb_voix\").alias(\"droite_nb_voix\"),\n",
    "        F.sum(\"edroite_nb_voix\").alias(\"edroite_nb_voix\")\n",
    "    )\\\n",
    "    .withColumn(\"autre_pourcentage_voix_inscrits\", (F.col(\"autre_nb_voix\") / F.col(\"nb_inscrits\")) * 100) \\\n",
    "    .withColumn(\"egauche_pourcentage_voix_inscrits\", (F.col(\"egauche_nb_voix\") / F.col(\"nb_inscrits\")) * 100) \\\n",
    "    .withColumn(\"gauche_pourcentage_voix_inscrits\", (F.col(\"gauche_nb_voix\") / F.col(\"nb_inscrits\")) * 100) \\\n",
    "    .withColumn(\"cgauche_pourcentage_voix_inscrits\", (F.col(\"cgauche_nb_voix\") / F.col(\"nb_inscrits\")) * 100) \\\n",
    "    .withColumn(\"centre_pourcentage_voix_inscrits\", (F.col(\"centre_nb_voix\") / F.col(\"nb_inscrits\")) * 100) \\\n",
    "    .withColumn(\"cdroit_pourcentage_voix_inscrits\", (F.col(\"cdroit_nb_voix\") / F.col(\"nb_inscrits\")) * 100) \\\n",
    "    .withColumn(\"droite_pourcentage_voix_inscrits\", (F.col(\"droite_nb_voix\") / F.col(\"nb_inscrits\")) * 100) \\\n",
    "    .withColumn(\"edroite_pourcentage_voix_inscrits\", (F.col(\"edroite_nb_voix\") / F.col(\"nb_inscrits\")) * 100)\\\n",
    "    .withColumn(\"pourcentage_voix_inscrits\", (F.col(\"nb_voix\") / F.col(\"nb_inscrits\")) * 100).withColumn(\"annee\", col(\"annee\").cast(\"long\"))\n"
   ]
  },
  {
   "cell_type": "code",
   "execution_count": 36,
   "id": "6a0fda1a-371f-40cf-be21-eee170163a17",
   "metadata": {
    "scrolled": true
   },
   "outputs": [],
   "source": [
    "df_election = df_election.withColumn(\"annee\", col(\"annee\").cast(\"long\"))"
   ]
  },
  {
   "cell_type": "code",
   "execution_count": 37,
   "id": "df30216f-12a1-4f7c-83b5-ed8ab86e6af9",
   "metadata": {},
   "outputs": [
    {
     "name": "stderr",
     "output_type": "stream",
     "text": [
      "/tmp/ipykernel_65656/8778096.py:2: DtypeWarning: Columns (0,2) have mixed types. Specify dtype option on import or set low_memory=False.\n",
      "  df_demographie = pd.read_csv('https://www.dropbox.com/scl/fi/qayze0v5xxwolw4tj8qmc/popcommunes.csv.zip?rlkey=qnpfvfq0kc096dykwfvz2jrv0&st=gk60a3ff&dl=1', compression='zip', header=0, sep=',', quotechar='\"')\n",
      "/tmp/ipykernel_65656/8778096.py:5: DtypeWarning: Columns (0,2) have mixed types. Specify dtype option on import or set low_memory=False.\n",
      "  df_csp = pd.read_csv('https://www.dropbox.com/scl/fi/opg91qcti1ctwmopr4efj/cspcommunes.csv.zip?rlkey=h8pti3tzoo7tqjctc2h1rfeqx&st=1mnddf1h&dl=1', compression='zip', header=0, sep=',', quotechar='\"')\n"
     ]
    }
   ],
   "source": [
    "# popcommunes.csv\n",
    "df_demographie = pd.read_csv('https://www.dropbox.com/scl/fi/qayze0v5xxwolw4tj8qmc/popcommunes.csv.zip?rlkey=qnpfvfq0kc096dykwfvz2jrv0&st=gk60a3ff&dl=1', compression='zip', header=0, sep=',', quotechar='\"')\n",
    "\n",
    "# cspcommunes.csv\n",
    "df_csp = pd.read_csv('https://www.dropbox.com/scl/fi/opg91qcti1ctwmopr4efj/cspcommunes.csv.zip?rlkey=h8pti3tzoo7tqjctc2h1rfeqx&st=1mnddf1h&dl=1', compression='zip', header=0, sep=',', quotechar='\"')\n",
    "\n",
    "# df_criminalite = pd.read_csv('https://drive.google.com/uc?export=download&id=1F9Jm0UaemicMy4MnvZ47nmZHiIdsmRwC')"
   ]
  },
  {
   "cell_type": "code",
   "execution_count": 38,
   "id": "5b2ffbf8-b819-42cf-b7b0-8abd543aa048",
   "metadata": {},
   "outputs": [],
   "source": [
    "# Using pandas\n",
    "\n",
    "df_demographie_filtre = df_demographie.filter(regex=\"^(dep|nomdep|codecommune|nomcommune|reg|nomreg)$|^pop[0-9]{4}$\")\n",
    "\n",
    "df_csp_filtre = df_csp.filter(regex=\"^(dep|nomdep|codecommune|nomcommune|agri|indp|cadr|pint|empl|ouvr|pact|chom)(\\d{4})?$\")"
   ]
  },
  {
   "cell_type": "code",
   "execution_count": 29,
   "id": "55bc4ff0-4e9f-40d2-95d2-db3312e2c5dc",
   "metadata": {
    "jupyter": {
     "source_hidden": true
    }
   },
   "outputs": [],
   "source": [
    "# # 1. Create the dimension table for commune data (df_dimension_commune)\n",
    "# df_dimension_commune = df_demographie_filtre[['dep', 'codecommune', 'nomcommune', 'reg']].drop_duplicates()\n",
    "\n",
    "# # 2. Extract population columns (columns starting with \"pop\" followed by 4 digits)\n",
    "# pop_columns = [col for col in df_demographie_filtre.columns if col.startswith('pop') and len(col) == 7 and col[3:].isdigit()]\n",
    "\n",
    "# # 3. Pivot the population columns into long format for the facts table (df_faits)\n",
    "# # We use the `melt` function to transform wide to long format\n",
    "# df_faits = pd.melt(df_demographie_filtre, \n",
    "#                    id_vars=['codecommune'],  # Keep 'codecommune' as ID column\n",
    "#                    value_vars=pop_columns,   # These are the population columns to melt\n",
    "#                    var_name='annee',          # Name of the new 'annee' column\n",
    "#                    value_name='population')  # Name of the new 'population' column\n",
    "\n",
    "# # Extract annee from 'popXXXX' column\n",
    "# df_faits['annee'] = df_faits['annee'].str[-4:]\n",
    "\n",
    "# print(\"Dimension Commune Table:\")\n",
    "# print(df_dimension_commune)\n",
    "\n",
    "# print(\"\\nFacts Table (Population Data):\")\n",
    "# print(df_faits)"
   ]
  },
  {
   "cell_type": "code",
   "execution_count": 39,
   "id": "506e6a3c-9d1a-4b9e-b138-17377c11201e",
   "metadata": {},
   "outputs": [
    {
     "name": "stderr",
     "output_type": "stream",
     "text": [
      "/usr/local/spark/python/pyspark/sql/pandas/conversion.py:351: UserWarning: createDataFrame attempted Arrow optimization because 'spark.sql.execution.arrow.pyspark.enabled' is set to true; however, failed by the reason below:\n",
      "  Could not convert '28' with type str: tried to convert to int64\n",
      "Attempting non-optimization as 'spark.sql.execution.arrow.pyspark.fallback.enabled' is set to true.\n",
      "  warn(msg)\n"
     ]
    }
   ],
   "source": [
    "# Using pySpark\n",
    "\n",
    "df_demographie_filtre = spark.createDataFrame(df_demographie_filtre)"
   ]
  },
  {
   "cell_type": "code",
   "execution_count": 40,
   "id": "7c238b22-677c-41c2-8dd7-66a1748d9d79",
   "metadata": {},
   "outputs": [
    {
     "name": "stderr",
     "output_type": "stream",
     "text": [
      "/usr/local/spark/python/pyspark/sql/pandas/conversion.py:351: UserWarning: createDataFrame attempted Arrow optimization because 'spark.sql.execution.arrow.pyspark.enabled' is set to true; however, failed by the reason below:\n",
      "  Could not convert '29' with type str: tried to convert to int64\n",
      "Attempting non-optimization as 'spark.sql.execution.arrow.pyspark.fallback.enabled' is set to true.\n",
      "  warn(msg)\n"
     ]
    }
   ],
   "source": [
    "df_csp_filtre = spark.createDataFrame(df_csp_filtre)"
   ]
  },
  {
   "cell_type": "code",
   "execution_count": 41,
   "id": "3176f6b3-9a84-4dfa-9929-8ea9c543acb8",
   "metadata": {
    "jupyter": {
     "source_hidden": true
    }
   },
   "outputs": [],
   "source": [
    "# # Using pySpark\n",
    "\n",
    "\n",
    "# # 1. Create the dimension table for commune data (df_dimension_commune)\n",
    "# df_dimension_commune = df_demographie_filtre.select(\"dep\", \"codecommune\", 'nomcommune', \"reg\").distinct()\n",
    "\n",
    "# # 2. Extract population columns (columns starting with \"pop\" followed by 4 digits)\n",
    "# pop_columns = [col for col in df_demographie_filtre.columns if col.startswith('pop') and len(col) == 7 and col[3:].isdigit()]\n",
    "\n",
    "# # 3. Pivot the population columns into long format for the facts table (df_faits)\n",
    "# df_faits = df_demographie_filtre \\\n",
    "#     .withColumn(\"annee_population\", F.explode(F.array(\n",
    "#         *[F.struct(F.lit(col[-4:]).alias(\"annee\"), F.col(col).alias(\"population\")) for col in pop_columns]\n",
    "#     )))\n",
    "\n",
    "# # Split the \"annee_population\" struct into separate columns for annee and population\n",
    "# df_faits = df_faits.withColumn(\"annee\", F.col(\"annee_population.annee\")) \\\n",
    "#                    .withColumn(\"population\", F.col(\"annee_population.population\")) \\\n",
    "#                    .drop(\"annee_population\")\n",
    "\n",
    "# # 4. Join the facts table with the commune table to include commune_id in df_faits\n",
    "# df_faits = df_faits.select(\"codecommune\", \"annee\", \"population\")\n",
    "\n",
    "# # Display the results\n",
    "# df_dimension_commune.show()\n",
    "# df_faits.show()"
   ]
  },
  {
   "cell_type": "code",
   "execution_count": 42,
   "id": "ec00ab57-b788-4e8d-8ca0-93ed1a9eb2c8",
   "metadata": {},
   "outputs": [],
   "source": [
    "def getColumnsWithStringAndFourDigits(str, df):\n",
    "    return [col for col in df.columns if col.startswith(str) and len(col) == len(str)+4 and col[-4:].isdigit()]"
   ]
  },
  {
   "cell_type": "code",
   "execution_count": 43,
   "id": "6ae032c1-cee7-4def-af73-902edf1007e6",
   "metadata": {
    "jupyter": {
     "source_hidden": true
    }
   },
   "outputs": [],
   "source": [
    "# # popcommunes\n",
    "\n",
    "# # 1. Optimize commune dimension table creation by dropping duplicates\n",
    "# df_dimension_commune = df_demographie_filtre.select(\"dep\", \"codecommune\", 'nomcommune', \"reg\").drop_duplicates()\n",
    "\n",
    "# # 2. Extract population columns (columns starting with \"pop\" followed by 4 digits)\n",
    "# pop_columns = getColumnsWithStringAndFourDigits(\"pop\", df_demographie_filtre)\n",
    "\n",
    "# # 3. Use stack() to pivot the population columns more efficiently for large datasets\n",
    "# df_faits = df_demographie_filtre.select(\"codecommune\", \n",
    "#                                         F.expr(\"stack({0}, {1})\".format(\n",
    "#                                             len(pop_columns),\n",
    "#                                             ','.join([f\"'{col[-4:]}', {col}\" for col in pop_columns])\n",
    "#                                         )).alias(\"annee\", \"population\"))\n",
    "\n",
    "# # Display the results\n",
    "# # df_dimension_commune.show()\n",
    "# # df_faits.show()"
   ]
  },
  {
   "cell_type": "code",
   "execution_count": 44,
   "id": "b77e726f-7dd7-471e-8b06-593881aa9fda",
   "metadata": {},
   "outputs": [],
   "source": [
    "# cspcommunes\n",
    "\n",
    "from collections import OrderedDict\n",
    "\n",
    "# 1. Optimize commune dimension table creation by dropping duplicates\n",
    "df_dimension_commune = df_demographie_filtre.select(\"dep\",\"nomdep\", \"codecommune\", 'nomcommune', \"reg\", \"nomreg\").join(\n",
    "                        df_csp_filtre.select(\"dep\",\"nomdep\", \"codecommune\", 'nomcommune'), on=[\"dep\", \"codecommune\", \"nomdep\", 'nomcommune'], how=\"outer\").drop_duplicates().dropna(subset=[\"reg\", \"nomreg\"]).cache()\n",
    "\n",
    "# 2. Extract population columns (columns starting with \"pop\" followed by 4 digits)\n",
    "pop_columns = getColumnsWithStringAndFourDigits(\"pop\", df_demographie_filtre)\n",
    "\n",
    "csp_columns = OrderedDict()\n",
    "for str in [\"agri\",\"indp\",\"cadr\",\"pint\",\"empl\",\"ouvr\",\"pact\", \"chom\"]:\n",
    "    csp_columns[str] = getColumnsWithStringAndFourDigits(str, df_csp_filtre)\n",
    "\n",
    "annees_csp = OrderedDict()\n",
    "for key, col_list in csp_columns.items():\n",
    "    for col_name in col_list:\n",
    "        annees_csp.setdefault(col_name[-4:], []).append(col_name) \n"
   ]
  },
  {
   "cell_type": "code",
   "execution_count": 45,
   "id": "d6cc8c19-59db-4a51-9129-80beeddaf413",
   "metadata": {
    "editable": true,
    "slideshow": {
     "slide_type": ""
    },
    "tags": []
   },
   "outputs": [
    {
     "name": "stdout",
     "output_type": "stream",
     "text": [
      "34856\n",
      "8667198\n"
     ]
    }
   ],
   "source": [
    "\n",
    "# 3. Use stack() to pivot the population columns more efficiently for large datasets\n",
    "df_faits_population = df_demographie_filtre.select(\"codecommune\", F.expr(\"stack({0}, {1})\".format(\n",
    "                                                        len(pop_columns), ','.join([f\"'{col[-4:]}', {col}\" for col in pop_columns])\n",
    "                                        )).alias(\"annee\", \"population\"))\n",
    "\n",
    "\n",
    "cast=\"CAST(\"\n",
    "as_double=\" AS DOUBLE)\"\n",
    "\n",
    "df_faits_csp = df_csp_filtre.select(\"codecommune\", \n",
    "                                F.expr(\"stack({0}, {1})\".format(len(annees_csp),\n",
    "                                ','.join([f\"'{annee}', {', '.join([cast + s + as_double for s in col_name])}\" for annee, col_name in annees_csp.items()])\n",
    "                                )).alias(\"annee\", \"agriculteurs\", \"independants\", \"cadres\", \"intermediaires\", \"employes\", \"ouvriers\", \"population_active_totale\", \"chomeurs\"))\n",
    "\n",
    "# df_faits = df_faits_population.join(df_faits_csp, on=[\"codecommune\", \"annee\"], how=\"outer\")\n",
    "df_faits = df_faits_csp.join(df_faits_population, on=[\"codecommune\", \"annee\"], how=\"outer\").cache()\n",
    "\n",
    "# Display the results\n",
    "# print(df_dimension_commune.count())\n",
    "# print(df_faits.count())"
   ]
  },
  {
   "cell_type": "code",
   "execution_count": 46,
   "id": "01b5c38e-a466-4672-bbc5-c51a86648914",
   "metadata": {},
   "outputs": [],
   "source": [
    "df_dimension_commune = df_dimension_commune.withColumn(\"codecommune\", col(\"codecommune\").cast(\"long\")).withColumn(\"dep\", col(\"dep\").cast(\"long\"))"
   ]
  },
  {
   "cell_type": "code",
   "execution_count": 47,
   "id": "cfeca07e-724a-450f-a566-69128070f105",
   "metadata": {},
   "outputs": [],
   "source": [
    "df_faits = df_faits.na.replace(float(\"nan\"), None)\n",
    "df_faits = df_faits.withColumn(\"codecommune\", col(\"codecommune\").cast(\"long\")).withColumn(\"annee\", col(\"annee\").cast(\"long\"))"
   ]
  },
  {
   "cell_type": "code",
   "execution_count": 48,
   "id": "941eaf86-0357-4571-a2b1-abb517f098e4",
   "metadata": {},
   "outputs": [],
   "source": [
    "df_faits = df_faits.join(df_election, on=[\"codecommune\", \"annee\"], how=\"outer\")"
   ]
  },
  {
   "cell_type": "code",
   "execution_count": 50,
   "id": "bbf5330b-3c10-436e-bbf2-0e3638d618d8",
   "metadata": {},
   "outputs": [],
   "source": [
    "df_faits = df_faits.join(delinquance_brut, on=[\"codecommune\", \"annee\"], how=\"outer\")"
   ]
  },
  {
   "cell_type": "code",
   "execution_count": 57,
   "id": "7dae85e2-a609-460d-bfa2-2a3b49fc0e98",
   "metadata": {},
   "outputs": [],
   "source": [
    "df_faits = df_faits.join(df_dimension_commune, on=[\"codecommune\"], how=\"outer\")"
   ]
  },
  {
   "cell_type": "code",
   "execution_count": 56,
   "id": "e0bdcb2f-c4da-4e86-97c1-a5f55ff95703",
   "metadata": {},
   "outputs": [
    {
     "name": "stdout",
     "output_type": "stream",
     "text": [
      "+-----------+-----+------------+------------+------+--------------+--------+--------+------------------------+--------+----------+-----------+-------------+----+-----------+-------+-------------+---------------+--------------+---------------+--------------+--------------+--------------+---------------+-------------------------------+---------------------------------+--------------------------------+---------------------------------+--------------------------------+--------------------------------+--------------------------------+---------------------------------+-------------------------+-------------+\n",
      "|codecommune|annee|agriculteurs|independants|cadres|intermediaires|employes|ouvriers|population_active_totale|chomeurs|population|id_election|type_election|tour|nb_inscrits|nb_voix|autre_nb_voix|egauche_nb_voix|gauche_nb_voix|cgauche_nb_voix|centre_nb_voix|cdroit_nb_voix|droite_nb_voix|edroite_nb_voix|autre_pourcentage_voix_inscrits|egauche_pourcentage_voix_inscrits|gauche_pourcentage_voix_inscrits|cgauche_pourcentage_voix_inscrits|centre_pourcentage_voix_inscrits|cdroit_pourcentage_voix_inscrits|droite_pourcentage_voix_inscrits|edroite_pourcentage_voix_inscrits|pourcentage_voix_inscrits|crimes_delits|\n",
      "+-----------+-----+------------+------------+------+--------------+--------+--------+------------------------+--------+----------+-----------+-------------+----+-----------+-------+-------------+---------------+--------------+---------------+--------------+--------------+--------------+---------------+-------------------------------+---------------------------------+--------------------------------+---------------------------------+--------------------------------+--------------------------------+--------------------------------+---------------------------------+-------------------------+-------------+\n",
      "|      22044| 1860|        NULL|        NULL|  NULL|          NULL|    NULL|    NULL|                    NULL|    NULL|       745|       NULL|         NULL|NULL|       NULL|   NULL|         NULL|           NULL|          NULL|           NULL|          NULL|          NULL|          NULL|           NULL|                           NULL|                             NULL|                            NULL|                             NULL|                            NULL|                            NULL|                            NULL|                             NULL|                     NULL|         NULL|\n",
      "|       3081| 1839|        NULL|        NULL|  NULL|          NULL|    NULL|    NULL|                    NULL|    NULL|       738|       NULL|         NULL|NULL|       NULL|   NULL|         NULL|           NULL|          NULL|           NULL|          NULL|          NULL|          NULL|           NULL|                           NULL|                             NULL|                            NULL|                             NULL|                            NULL|                            NULL|                            NULL|                             NULL|                     NULL|         NULL|\n",
      "|      24197| 1927|        NULL|        NULL|  NULL|          NULL|    NULL|    NULL|                    NULL|    NULL|       360|       NULL|         NULL|NULL|       NULL|   NULL|         NULL|           NULL|          NULL|           NULL|          NULL|          NULL|          NULL|           NULL|                           NULL|                             NULL|                            NULL|                             NULL|                            NULL|                            NULL|                            NULL|                             NULL|                     NULL|         NULL|\n",
      "|      35196| 1792|        NULL|        NULL|  NULL|          NULL|    NULL|    NULL|                    NULL|    NULL|      2314|       NULL|         NULL|NULL|       NULL|   NULL|         NULL|           NULL|          NULL|           NULL|          NULL|          NULL|          NULL|           NULL|                           NULL|                             NULL|                            NULL|                             NULL|                            NULL|                            NULL|                            NULL|                             NULL|                     NULL|         NULL|\n",
      "|      14693| 1962|          42|           4|     0|             1|       3|      30|                      80|       0|      NULL|       NULL|         NULL|NULL|       NULL|   NULL|         NULL|           NULL|          NULL|           NULL|          NULL|          NULL|          NULL|           NULL|                           NULL|                             NULL|                            NULL|                             NULL|                            NULL|                            NULL|                            NULL|                             NULL|                     NULL|         NULL|\n",
      "|      38464| 1975|          30|          20|    20|            40|      45|     270|                     425|       0|      1362|       NULL|         NULL|NULL|       NULL|   NULL|         NULL|           NULL|          NULL|           NULL|          NULL|          NULL|          NULL|           NULL|                           NULL|                             NULL|                            NULL|                             NULL|                            NULL|                            NULL|                            NULL|                             NULL|                     NULL|         NULL|\n",
      "|      41080| 1954|        NULL|        NULL|  NULL|          NULL|    NULL|    NULL|                    NULL|    NULL|       835|       NULL|         NULL|NULL|       NULL|   NULL|         NULL|           NULL|          NULL|           NULL|          NULL|          NULL|          NULL|           NULL|                           NULL|                             NULL|                            NULL|                             NULL|                            NULL|                            NULL|                            NULL|                             NULL|                     NULL|         NULL|\n",
      "|      11417| 1821|        NULL|        NULL|  NULL|          NULL|    NULL|    NULL|                    NULL|    NULL|       276|       NULL|         NULL|NULL|       NULL|   NULL|         NULL|           NULL|          NULL|           NULL|          NULL|          NULL|          NULL|           NULL|                           NULL|                             NULL|                            NULL|                             NULL|                            NULL|                            NULL|                            NULL|                             NULL|                     NULL|         NULL|\n",
      "|      14027| 1788|        NULL|        NULL|  NULL|          NULL|    NULL|    NULL|                    NULL|    NULL|      3116|       NULL|         NULL|NULL|       NULL|   NULL|         NULL|           NULL|          NULL|           NULL|          NULL|          NULL|          NULL|           NULL|                           NULL|                             NULL|                            NULL|                             NULL|                            NULL|                            NULL|                            NULL|                             NULL|                     NULL|         NULL|\n",
      "|      41278| 1971|          29|           9|     0|             2|       4|      16|                      60|       0|       281|       NULL|         NULL|NULL|       NULL|   NULL|         NULL|           NULL|          NULL|           NULL|          NULL|          NULL|          NULL|           NULL|                           NULL|                             NULL|                            NULL|                             NULL|                            NULL|                            NULL|                            NULL|                             NULL|                     NULL|         NULL|\n",
      "|      76006| 1835|        NULL|        NULL|  NULL|          NULL|    NULL|    NULL|                    NULL|    NULL|       318|       NULL|         NULL|NULL|       NULL|   NULL|         NULL|           NULL|          NULL|           NULL|          NULL|          NULL|          NULL|           NULL|                           NULL|                             NULL|                            NULL|                             NULL|                            NULL|                            NULL|                            NULL|                             NULL|                     NULL|         NULL|\n",
      "+-----------+-----+------------+------------+------+--------------+--------+--------+------------------------+--------+----------+-----------+-------------+----+-----------+-------+-------------+---------------+--------------+---------------+--------------+--------------+--------------+---------------+-------------------------------+---------------------------------+--------------------------------+---------------------------------+--------------------------------+--------------------------------+--------------------------------+---------------------------------+-------------------------+-------------+\n",
      "\n"
     ]
    }
   ],
   "source": [
    "df_faits.sample(0.000001).show()"
   ]
  },
  {
   "cell_type": "code",
   "execution_count": 54,
   "id": "e30fefdb-6300-49aa-8b23-fbaa13dc1fb5",
   "metadata": {},
   "outputs": [],
   "source": [
    "df_faits = df_faits.withColumn(\"agriculteurs\", col(\"agriculteurs\").cast(\"long\")) \\\n",
    "                    .withColumn(\"independants\", col(\"independants\").cast(\"long\"))\\\n",
    "                    .withColumn(\"cadres\", col(\"cadres\").cast(\"long\"))\\\n",
    "                    .withColumn(\"intermediaires\", col(\"intermediaires\").cast(\"long\"))\\\n",
    "                    .withColumn(\"employes\", col(\"employes\").cast(\"long\"))\\\n",
    "                    .withColumn(\"ouvriers\", col(\"ouvriers\").cast(\"long\"))\\\n",
    "                    .withColumn(\"population_active_totale\", col(\"population_active_totale\").cast(\"long\"))\\\n",
    "                    .withColumn(\"chomeurs\", col(\"chomeurs\").cast(\"long\"))\\\n",
    "                    .withColumn(\"nb_inscrits\", col(\"nb_inscrits\").cast(\"long\"))\\\n",
    "                    .withColumn(\"nb_voix\", col(\"nb_voix\").cast(\"long\"))\\\n",
    "                    .withColumn(\"autre_nb_voix\", col(\"autre_nb_voix\").cast(\"long\"))\\\n",
    "                    .withColumn(\"egauche_nb_voix\", col(\"egauche_nb_voix\").cast(\"long\"))\\\n",
    "                    .withColumn(\"gauche_nb_voix\", col(\"gauche_nb_voix\").cast(\"long\"))\\\n",
    "                    .withColumn(\"cgauche_nb_voix\", col(\"cgauche_nb_voix\").cast(\"long\"))\\\n",
    "                    .withColumn(\"centre_nb_voix\", col(\"centre_nb_voix\").cast(\"long\"))\\\n",
    "                    .withColumn(\"cdroit_nb_voix\", col(\"cdroit_nb_voix\").cast(\"long\"))\\\n",
    "                    .withColumn(\"droite_nb_voix\", col(\"droite_nb_voix\").cast(\"long\"))\\\n",
    "                    .withColumn(\"edroite_nb_voix\", col(\"edroite_nb_voix\").cast(\"long\"))"
   ]
  },
  {
   "cell_type": "code",
   "execution_count": 60,
   "id": "a50c6559-b6bb-40d7-8445-a1375d9b8bb2",
   "metadata": {},
   "outputs": [
    {
     "name": "stdout",
     "output_type": "stream",
     "text": [
      "root\n",
      " |-- codecommune: long (nullable = true)\n",
      " |-- annee: long (nullable = true)\n",
      " |-- agriculteurs: long (nullable = true)\n",
      " |-- independants: long (nullable = true)\n",
      " |-- cadres: long (nullable = true)\n",
      " |-- intermediaires: long (nullable = true)\n",
      " |-- employes: long (nullable = true)\n",
      " |-- ouvriers: long (nullable = true)\n",
      " |-- population_active_totale: long (nullable = true)\n",
      " |-- chomeurs: long (nullable = true)\n",
      " |-- population: long (nullable = true)\n",
      " |-- id_election: string (nullable = true)\n",
      " |-- type_election: string (nullable = true)\n",
      " |-- tour: string (nullable = true)\n",
      " |-- nb_inscrits: long (nullable = true)\n",
      " |-- nb_voix: long (nullable = true)\n",
      " |-- autre_nb_voix: long (nullable = true)\n",
      " |-- egauche_nb_voix: long (nullable = true)\n",
      " |-- gauche_nb_voix: long (nullable = true)\n",
      " |-- cgauche_nb_voix: long (nullable = true)\n",
      " |-- centre_nb_voix: long (nullable = true)\n",
      " |-- cdroit_nb_voix: long (nullable = true)\n",
      " |-- droite_nb_voix: long (nullable = true)\n",
      " |-- edroite_nb_voix: long (nullable = true)\n",
      " |-- autre_pourcentage_voix_inscrits: double (nullable = true)\n",
      " |-- egauche_pourcentage_voix_inscrits: double (nullable = true)\n",
      " |-- gauche_pourcentage_voix_inscrits: double (nullable = true)\n",
      " |-- cgauche_pourcentage_voix_inscrits: double (nullable = true)\n",
      " |-- centre_pourcentage_voix_inscrits: double (nullable = true)\n",
      " |-- cdroit_pourcentage_voix_inscrits: double (nullable = true)\n",
      " |-- droite_pourcentage_voix_inscrits: double (nullable = true)\n",
      " |-- edroite_pourcentage_voix_inscrits: double (nullable = true)\n",
      " |-- pourcentage_voix_inscrits: double (nullable = true)\n",
      " |-- crimes_delits: long (nullable = true)\n",
      " |-- dep: long (nullable = true)\n",
      " |-- nomdep: string (nullable = true)\n",
      " |-- nomcommune: string (nullable = true)\n",
      " |-- reg: long (nullable = true)\n",
      " |-- nomreg: string (nullable = true)\n",
      " |-- id_commune: integer (nullable = false)\n",
      " |-- id_type_election: integer (nullable = false)\n",
      " |-- id_demographie: integer (nullable = false)\n",
      " |-- id_criminalite: integer (nullable = false)\n",
      " |-- id_emploi: integer (nullable = false)\n",
      " |-- id_annee: integer (nullable = false)\n",
      "\n"
     ]
    }
   ],
   "source": [
    "df_faits.printSchema()"
   ]
  },
  {
   "cell_type": "code",
   "execution_count": 76,
   "id": "fa928fc6-03d4-4b0b-9224-c17141990ba9",
   "metadata": {},
   "outputs": [],
   "source": [
    "from pyspark.sql.window import Window\n",
    "\n",
    "df_faits = df_faits.withColumn(\"id_commune\", F.dense_rank().over(Window.orderBy(\"codecommune\"))) \\\n",
    "                    .withColumn(\"id_type_election\", F.dense_rank().over(Window.orderBy(\"type_election\",\"tour\")))\\\n",
    "                    .withColumn(\"id_demographie\", F.dense_rank().over(Window.orderBy(\"population\")))\\\n",
    "                    .withColumn(\"id_criminalite\", F.dense_rank().over(Window.orderBy(\"crimes_delits\")))\\\n",
    "                    .withColumn(\"id_emploi\", F.dense_rank().over(Window.orderBy(\"agriculteurs\", \"independants\", \"cadres\", \"intermediaires\", \"employes\", \"ouvriers\", \"population_active_totale\", \"chomeurs\")))\\\n",
    "                    .withColumn(\"id_annee\", F.dense_rank().over(Window.orderBy(\"annee\")))"
   ]
  },
  {
   "cell_type": "code",
   "execution_count": 72,
   "id": "53eca25e-2605-4dde-a8d5-16f00cc03b2d",
   "metadata": {},
   "outputs": [],
   "source": [
    "election_columns = [\"id_election\",\"id_commune\",\"id_type_election\",\"id_demographie\",\"id_criminalite\",\"id_emploi\",\"id_annee\",\"nb_inscrits\",\"nb_voix\",\"pourcentage_voix_inscrits\",\"autre_nb_voix\",\"egauche_nb_voix\",\n",
    "                    \"gauche_nb_voix\",\"cgauche_nb_voix\",\"centre_nb_voix\",\"cdroit_nb_voix\",\"droite_nb_voix\",\"edroite_nb_voix\",\"autre_pourcentage_voix_inscrits\",\"egauche_pourcentage_voix_inscrits\",\"gauche_pourcentage_voix_inscrits\",\n",
    "                    \"cgauche_pourcentage_voix_inscrits\",\"centre_pourcentage_voix_inscrits\",\"cdroit_pourcentage_voix_inscrits\",\"droite_pourcentage_voix_inscrits\",\"edroite_pourcentage_voix_inscrits\"]\n",
    "commune_columns = [\"id_commune\",\"codecommune\",\"dep\",\"reg\",\"nomcommune\",\"nomdep\",\"nomreg\"]\n",
    "type_election_columns = [\"id_type_election\",\"type_election\",\"tour\"]\n",
    "demographie_columns = [\"id_demographie\",\"population\"]\n",
    "criminalite_columns = [\"id_criminalite\",\"crimes_delits\"]\n",
    "emploi_columns = [\"id_emploi\",\"agriculteurs\",\"independants\",\"cadres\", \"intermediaires\", \"employes\", \"ouvriers\", \"population_active_totale\", \"chomeurs\"]\n",
    "annee_columns = [\"id_annee\",\"annee\"]"
   ]
  },
  {
   "cell_type": "code",
   "execution_count": 77,
   "id": "5f9c8643-a2d9-4e9d-bda8-7a6f83465594",
   "metadata": {},
   "outputs": [],
   "source": [
    "df_election = df_faits.select(election_columns).distinct()\n",
    "df_commune = df_faits.select(commune_columns).distinct()\n",
    "df_type_election = df_faits.select(type_election_columns).distinct()\n",
    "df_demographie = df_faits.select(demographie_columns).distinct()\n",
    "df_criminalite = df_faits.select(criminalite_columns).distinct()\n",
    "df_emploi = df_faits.select(emploi_columns).distinct()\n",
    "df_annee = df_faits.select(annee_columns).distinct()"
   ]
  },
  {
   "cell_type": "code",
   "execution_count": 83,
   "id": "86d5b9dd-e86d-4ed5-b411-b63597531f3a",
   "metadata": {},
   "outputs": [
    {
     "data": {
      "text/plain": [
       "38354"
      ]
     },
     "execution_count": 83,
     "metadata": {},
     "output_type": "execute_result"
    }
   ],
   "source": [
    "df_commune.count()"
   ]
  },
  {
   "cell_type": "code",
   "execution_count": 81,
   "id": "cf5355a8-7a3d-4171-801e-d2bbd0af3aad",
   "metadata": {
    "collapsed": true,
    "jupyter": {
     "outputs_hidden": true
    }
   },
   "outputs": [
    {
     "name": "stdout",
     "output_type": "stream",
     "text": [
      "+-----------+-----+------------+------------+------+--------------+--------+--------+------------------------+--------+----------+-----------+-------------+----+-----------+-------+-------------+---------------+--------------+---------------+--------------+--------------+--------------+---------------+-------------------------------+---------------------------------+--------------------------------+---------------------------------+--------------------------------+--------------------------------+--------------------------------+---------------------------------+-------------------------+-------------+----+------------+--------------------+---+------+----------+----------------+--------------+--------------+---------+--------+\n",
      "|codecommune|annee|agriculteurs|independants|cadres|intermediaires|employes|ouvriers|population_active_totale|chomeurs|population|id_election|type_election|tour|nb_inscrits|nb_voix|autre_nb_voix|egauche_nb_voix|gauche_nb_voix|cgauche_nb_voix|centre_nb_voix|cdroit_nb_voix|droite_nb_voix|edroite_nb_voix|autre_pourcentage_voix_inscrits|egauche_pourcentage_voix_inscrits|gauche_pourcentage_voix_inscrits|cgauche_pourcentage_voix_inscrits|centre_pourcentage_voix_inscrits|cdroit_pourcentage_voix_inscrits|droite_pourcentage_voix_inscrits|edroite_pourcentage_voix_inscrits|pourcentage_voix_inscrits|crimes_delits| dep|      nomdep|          nomcommune|reg|nomreg|id_commune|id_type_election|id_demographie|id_criminalite|id_emploi|id_annee|\n",
      "+-----------+-----+------------+------------+------+--------------+--------+--------+------------------------+--------+----------+-----------+-------------+----+-----------+-------+-------------+---------------+--------------+---------------+--------------+--------------+--------------+---------------+-------------------------------+---------------------------------+--------------------------------+---------------------------------+--------------------------------+--------------------------------+--------------------------------+---------------------------------+-------------------------+-------------+----+------------+--------------------+---+------+----------+----------------+--------------+--------------+---------+--------+\n",
      "|       NULL| NULL|        NULL|        NULL|  NULL|          NULL|    NULL|    NULL|                    NULL|    NULL|      NULL|       NULL|         NULL|NULL|       NULL|   NULL|         NULL|           NULL|          NULL|           NULL|          NULL|          NULL|          NULL|           NULL|                           NULL|                             NULL|                            NULL|                             NULL|                            NULL|                            NULL|                            NULL|                             NULL|                     NULL|         NULL|NULL| HAUTE-CORSE|    PERO-CASEVECCHIE| 94| CORSE|         1|               1|             1|             1|        1|       1|\n",
      "|       NULL| NULL|        NULL|        NULL|  NULL|          NULL|    NULL|    NULL|                    NULL|    NULL|      NULL|       NULL|         NULL|NULL|       NULL|   NULL|         NULL|           NULL|          NULL|           NULL|          NULL|          NULL|          NULL|           NULL|                           NULL|                             NULL|                            NULL|                             NULL|                            NULL|                            NULL|                            NULL|                             NULL|                     NULL|         NULL|NULL| HAUTE-CORSE|SAN-GAVINO-DI-FIU...| 94| CORSE|         1|               1|             1|             1|        1|       1|\n",
      "|       NULL| NULL|        NULL|        NULL|  NULL|          NULL|    NULL|    NULL|                    NULL|    NULL|      NULL|       NULL|         NULL|NULL|       NULL|   NULL|         NULL|           NULL|          NULL|           NULL|          NULL|          NULL|          NULL|           NULL|                           NULL|                             NULL|                            NULL|                             NULL|                            NULL|                            NULL|                            NULL|                             NULL|                     NULL|         NULL|NULL|CORSE-DU-SUD|                ARRO| 94| CORSE|         1|               1|             1|             1|        1|       1|\n",
      "|       NULL| NULL|        NULL|        NULL|  NULL|          NULL|    NULL|    NULL|                    NULL|    NULL|      NULL|       NULL|         NULL|NULL|       NULL|   NULL|         NULL|           NULL|          NULL|           NULL|          NULL|          NULL|          NULL|           NULL|                           NULL|                             NULL|                            NULL|                             NULL|                            NULL|                            NULL|                            NULL|                             NULL|                     NULL|         NULL|NULL|CORSE-DU-SUD|          URBALACONE| 94| CORSE|         1|               1|             1|             1|        1|       1|\n",
      "|       NULL| NULL|        NULL|        NULL|  NULL|          NULL|    NULL|    NULL|                    NULL|    NULL|      NULL|       NULL|         NULL|NULL|       NULL|   NULL|         NULL|           NULL|          NULL|           NULL|          NULL|          NULL|          NULL|           NULL|                           NULL|                             NULL|                            NULL|                             NULL|                            NULL|                            NULL|                            NULL|                             NULL|                     NULL|         NULL|NULL|CORSE-DU-SUD|               OCANA| 94| CORSE|         1|               1|             1|             1|        1|       1|\n",
      "|       NULL| NULL|        NULL|        NULL|  NULL|          NULL|    NULL|    NULL|                    NULL|    NULL|      NULL|       NULL|         NULL|NULL|       NULL|   NULL|         NULL|           NULL|          NULL|           NULL|          NULL|          NULL|          NULL|           NULL|                           NULL|                             NULL|                            NULL|                             NULL|                            NULL|                            NULL|                            NULL|                             NULL|                     NULL|         NULL|NULL| HAUTE-CORSE|SAN-GAVINO-D'AMPU...| 94| CORSE|         1|               1|             1|             1|        1|       1|\n",
      "|       NULL| NULL|        NULL|        NULL|  NULL|          NULL|    NULL|    NULL|                    NULL|    NULL|      NULL|       NULL|         NULL|NULL|       NULL|   NULL|         NULL|           NULL|          NULL|           NULL|          NULL|          NULL|          NULL|           NULL|                           NULL|                             NULL|                            NULL|                             NULL|                            NULL|                            NULL|                            NULL|                             NULL|                     NULL|         NULL|NULL|CORSE-DU-SUD|   ARGIUSTA-MORICCIO| 94| CORSE|         1|               1|             1|             1|        1|       1|\n",
      "|       NULL| NULL|        NULL|        NULL|  NULL|          NULL|    NULL|    NULL|                    NULL|    NULL|      NULL|       NULL|         NULL|NULL|       NULL|   NULL|         NULL|           NULL|          NULL|           NULL|          NULL|          NULL|          NULL|           NULL|                           NULL|                             NULL|                            NULL|                             NULL|                            NULL|                            NULL|                            NULL|                             NULL|                     NULL|         NULL|NULL| HAUTE-CORSE|          VALLECALLE| 94| CORSE|         1|               1|             1|             1|        1|       1|\n",
      "|       NULL| NULL|        NULL|        NULL|  NULL|          NULL|    NULL|    NULL|                    NULL|    NULL|      NULL|       NULL|         NULL|NULL|       NULL|   NULL|         NULL|           NULL|          NULL|           NULL|          NULL|          NULL|          NULL|           NULL|                           NULL|                             NULL|                            NULL|                             NULL|                            NULL|                            NULL|                            NULL|                             NULL|                     NULL|         NULL|NULL|CORSE-DU-SUD|               CAURO| 94| CORSE|         1|               1|             1|             1|        1|       1|\n",
      "|       NULL| NULL|        NULL|        NULL|  NULL|          NULL|    NULL|    NULL|                    NULL|    NULL|      NULL|       NULL|         NULL|NULL|       NULL|   NULL|         NULL|           NULL|          NULL|           NULL|          NULL|          NULL|          NULL|           NULL|                           NULL|                             NULL|                            NULL|                             NULL|                            NULL|                            NULL|                            NULL|                             NULL|                     NULL|         NULL|NULL| HAUTE-CORSE|            PIAZZOLE| 94| CORSE|         1|               1|             1|             1|        1|       1|\n",
      "|       NULL| NULL|        NULL|        NULL|  NULL|          NULL|    NULL|    NULL|                    NULL|    NULL|      NULL|       NULL|         NULL|NULL|       NULL|   NULL|         NULL|           NULL|          NULL|           NULL|          NULL|          NULL|          NULL|           NULL|                           NULL|                             NULL|                            NULL|                             NULL|                            NULL|                            NULL|                            NULL|                             NULL|                     NULL|         NULL|NULL|CORSE-DU-SUD|         CIAMANNACCE| 94| CORSE|         1|               1|             1|             1|        1|       1|\n",
      "|       NULL| NULL|        NULL|        NULL|  NULL|          NULL|    NULL|    NULL|                    NULL|    NULL|      NULL|       NULL|         NULL|NULL|       NULL|   NULL|         NULL|           NULL|          NULL|           NULL|          NULL|          NULL|          NULL|           NULL|                           NULL|                             NULL|                            NULL|                             NULL|                            NULL|                            NULL|                            NULL|                             NULL|                     NULL|         NULL|NULL| HAUTE-CORSE|SANTA-LUCIA-DI-ME...| 94| CORSE|         1|               1|             1|             1|        1|       1|\n",
      "|       NULL| NULL|        NULL|        NULL|  NULL|          NULL|    NULL|    NULL|                    NULL|    NULL|      NULL|       NULL|         NULL|NULL|       NULL|   NULL|         NULL|           NULL|          NULL|           NULL|          NULL|          NULL|          NULL|           NULL|                           NULL|                             NULL|                            NULL|                             NULL|                            NULL|                            NULL|                            NULL|                             NULL|                     NULL|         NULL|NULL| HAUTE-CORSE|              ORTALE| 94| CORSE|         1|               1|             1|             1|        1|       1|\n",
      "|       NULL| NULL|        NULL|        NULL|  NULL|          NULL|    NULL|    NULL|                    NULL|    NULL|      NULL|       NULL|         NULL|NULL|       NULL|   NULL|         NULL|           NULL|          NULL|           NULL|          NULL|          NULL|          NULL|           NULL|                           NULL|                             NULL|                            NULL|                             NULL|                            NULL|                            NULL|                            NULL|                             NULL|                     NULL|         NULL|NULL| HAUTE-CORSE|           BELGODÈRE| 94| CORSE|         1|               1|             1|             1|        1|       1|\n",
      "|       NULL| NULL|        NULL|        NULL|  NULL|          NULL|    NULL|    NULL|                    NULL|    NULL|      NULL|       NULL|         NULL|NULL|       NULL|   NULL|         NULL|           NULL|          NULL|           NULL|          NULL|          NULL|          NULL|           NULL|                           NULL|                             NULL|                            NULL|                             NULL|                            NULL|                            NULL|                            NULL|                             NULL|                     NULL|         NULL|NULL| HAUTE-CORSE|         ROSPIGLIANI| 94| CORSE|         1|               1|             1|             1|        1|       1|\n",
      "|       NULL| NULL|        NULL|        NULL|  NULL|          NULL|    NULL|    NULL|                    NULL|    NULL|      NULL|       NULL|         NULL|NULL|       NULL|   NULL|         NULL|           NULL|          NULL|           NULL|          NULL|          NULL|          NULL|           NULL|                           NULL|                             NULL|                            NULL|                             NULL|                            NULL|                            NULL|                            NULL|                             NULL|                     NULL|         NULL|NULL|CORSE-DU-SUD|             SAMPOLO| 94| CORSE|         1|               1|             1|             1|        1|       1|\n",
      "|       NULL| NULL|        NULL|        NULL|  NULL|          NULL|    NULL|    NULL|                    NULL|    NULL|      NULL|       NULL|         NULL|NULL|       NULL|   NULL|         NULL|           NULL|          NULL|           NULL|          NULL|          NULL|          NULL|           NULL|                           NULL|                             NULL|                            NULL|                             NULL|                            NULL|                            NULL|                            NULL|                             NULL|                     NULL|         NULL|NULL|CORSE-DU-SUD|           CARBUCCIA| 94| CORSE|         1|               1|             1|             1|        1|       1|\n",
      "|       NULL| NULL|        NULL|        NULL|  NULL|          NULL|    NULL|    NULL|                    NULL|    NULL|      NULL|       NULL|         NULL|NULL|       NULL|   NULL|         NULL|           NULL|          NULL|           NULL|          NULL|          NULL|          NULL|           NULL|                           NULL|                             NULL|                            NULL|                             NULL|                            NULL|                            NULL|                            NULL|                             NULL|                     NULL|         NULL|NULL|CORSE-DU-SUD| COGNOCOLI-MONTICCHI| 94| CORSE|         1|               1|             1|             1|        1|       1|\n",
      "|       NULL| NULL|        NULL|        NULL|  NULL|          NULL|    NULL|    NULL|                    NULL|    NULL|      NULL|       NULL|         NULL|NULL|       NULL|   NULL|         NULL|           NULL|          NULL|           NULL|          NULL|          NULL|          NULL|           NULL|                           NULL|                             NULL|                            NULL|                             NULL|                            NULL|                            NULL|                            NULL|                             NULL|                     NULL|         NULL|NULL| HAUTE-CORSE|           BARBAGGIO| 94| CORSE|         1|               1|             1|             1|        1|       1|\n",
      "|       NULL| NULL|        NULL|        NULL|  NULL|          NULL|    NULL|    NULL|                    NULL|    NULL|      NULL|       NULL|         NULL|NULL|       NULL|   NULL|         NULL|           NULL|          NULL|           NULL|          NULL|          NULL|          NULL|           NULL|                           NULL|                             NULL|                            NULL|                             NULL|                            NULL|                            NULL|                            NULL|                             NULL|                     NULL|         NULL|NULL| HAUTE-CORSE|              ALANDO| 94| CORSE|         1|               1|             1|             1|        1|       1|\n",
      "+-----------+-----+------------+------------+------+--------------+--------+--------+------------------------+--------+----------+-----------+-------------+----+-----------+-------+-------------+---------------+--------------+---------------+--------------+--------------+--------------+---------------+-------------------------------+---------------------------------+--------------------------------+---------------------------------+--------------------------------+--------------------------------+--------------------------------+---------------------------------+-------------------------+-------------+----+------------+--------------------+---+------+----------+----------------+--------------+--------------+---------+--------+\n",
      "only showing top 20 rows\n",
      "\n"
     ]
    }
   ],
   "source": [
    "df_faits.filter(col(\"type_election\").isNull()).show()"
   ]
  },
  {
   "cell_type": "code",
   "execution_count": 41,
   "id": "1c678588-2776-4004-a63b-d645cd9b5e5f",
   "metadata": {
    "jupyter": {
     "source_hidden": true
    }
   },
   "outputs": [],
   "source": [
    "# ','.join([f\"'{col[-4:]}', {col}\" for col in pop_columns])"
   ]
  },
  {
   "cell_type": "code",
   "execution_count": 42,
   "id": "c8075295-a4b9-4ec1-8c87-609eb144d77e",
   "metadata": {
    "editable": true,
    "jupyter": {
     "source_hidden": true
    },
    "slideshow": {
     "slide_type": ""
    },
    "tags": []
   },
   "outputs": [],
   "source": [
    "# Tentative infructueuse en utilisant pandas\n",
    "\n",
    "# df_faits = pd.DataFrame(columns=[\"population\"])\n",
    "# df_faits = spark.createDataFrame(df_faits)\n",
    "\n",
    "# df_dimension_commune = pd.DataFrame(columns=[\"code_departement\", \"code_commune\", \"code_region\"])\n",
    "# df_dimension_commune = spark.createDataFrame(df_dimension_commune)\n",
    "\n",
    "# df_dimension_annee = pd.DataFrame(columns=[\"annee\"])\n",
    "# df_dimension_annee = spark.createDataFrame(df_dimension_annee)\n",
    "\n",
    "# for idx, row in df_demographie_filtre.iterrows():\n",
    "#     df_dimension_commune.loc[len(df_dimension_commune)] = [row[\"dep\"], row[\"codecommune\"], row[\"reg\"]]\n",
    "#     for index, value in row.filter(regex=\"^pop[0-9]{4}$\").items():\n",
    "#         df_faits.loc[len(df_faits)] = [value]\n",
    "#         df_dimension_annee.loc[len(df_dimension_annee)] = [index[-4:]]"
   ]
  },
  {
   "cell_type": "markdown",
   "id": "b81fa1d0-2f4a-4fc6-94a2-6b10cbf605ad",
   "metadata": {},
   "source": [
    "# Écriture des données transformées en base de données avec le driver JDBC"
   ]
  },
  {
   "cell_type": "code",
   "execution_count": 84,
   "id": "c2722c1f-7bb7-4414-bbc6-cb26c63d2896",
   "metadata": {},
   "outputs": [],
   "source": [
    "properties = {\n",
    "    \"user\": \"root\",\n",
    "    \"password\": \"root\",\n",
    "    \"driver\": \"com.mysql.cj.jdbc.Driver\"\n",
    "}"
   ]
  },
  {
   "cell_type": "code",
   "execution_count": 85,
   "id": "4ba2ac7b-01bf-4ad6-a375-c7f8a717aad6",
   "metadata": {},
   "outputs": [],
   "source": [
    "df_election.write.jdbc(url=\"jdbc:mysql://mysql:3306/mspr1\", table=\"resultats_elections_nuance\", mode=\"overwrite\", properties=properties)"
   ]
  },
  {
   "cell_type": "code",
   "execution_count": 86,
   "id": "ea16c8d9-edf0-48f4-9c0b-aa087fa9c9d4",
   "metadata": {},
   "outputs": [],
   "source": [
    "df_commune.write.jdbc(url=\"jdbc:mysql://mysql:3306/mspr1\", table=\"commune\", mode=\"overwrite\", properties=properties)"
   ]
  },
  {
   "cell_type": "code",
   "execution_count": 87,
   "id": "f65ebd9e-982b-4f6b-95e3-bea44ac3db39",
   "metadata": {},
   "outputs": [],
   "source": [
    "df_type_election.write.jdbc(url=\"jdbc:mysql://mysql:3306/mspr1\", table=\"type_election\", mode=\"overwrite\", properties=properties)"
   ]
  },
  {
   "cell_type": "code",
   "execution_count": 88,
   "id": "3c4472ba-6b1f-4685-a3b4-42df017d745f",
   "metadata": {},
   "outputs": [],
   "source": [
    "df_demographie.write.jdbc(url=\"jdbc:mysql://mysql:3306/mspr1\", table=\"demographie\", mode=\"overwrite\", properties=properties)"
   ]
  },
  {
   "cell_type": "code",
   "execution_count": 89,
   "id": "1aa8bd6a-58a9-4c87-b394-6b8b5cd838d6",
   "metadata": {},
   "outputs": [],
   "source": [
    "df_criminalite.write.jdbc(url=\"jdbc:mysql://mysql:3306/mspr1\", table=\"criminalite\", mode=\"overwrite\", properties=properties)"
   ]
  },
  {
   "cell_type": "code",
   "execution_count": 90,
   "id": "2d0aec00-c961-43c6-bb24-c44179041ba6",
   "metadata": {},
   "outputs": [],
   "source": [
    "df_emploi.write.jdbc(url=\"jdbc:mysql://mysql:3306/mspr1\", table=\"emploi\", mode=\"overwrite\", properties=properties)"
   ]
  },
  {
   "cell_type": "code",
   "execution_count": 91,
   "id": "c52c0a95-5eb0-4f63-b02c-fe6a866b65fd",
   "metadata": {},
   "outputs": [],
   "source": [
    "df_annee.write.jdbc(url=\"jdbc:mysql://mysql:3306/mspr1\", table=\"annee\", mode=\"overwrite\", properties=properties)"
   ]
  },
  {
   "cell_type": "code",
   "execution_count": null,
   "id": "f497facd-fa7d-48b1-ae33-7a395ac0bbf8",
   "metadata": {},
   "outputs": [],
   "source": [
    "delinquance_brut.unpersist()\n",
    "del delinquance_brut"
   ]
  },
  {
   "cell_type": "code",
   "execution_count": null,
   "id": "82b0d7b8-73ed-4533-ac84-47efff09329e",
   "metadata": {},
   "outputs": [],
   "source": [
    "df_election.unpersist()\n",
    "del df_election"
   ]
  },
  {
   "cell_type": "code",
   "execution_count": null,
   "id": "c19dc858-d42d-4795-836a-8cd39aff1be5",
   "metadata": {},
   "outputs": [],
   "source": [
    "df_dimension_commune.unpersist()\n",
    "del df_dimension_commune\n",
    "df_faits.unpersist()\n",
    "del df_faits\n",
    "df_faits_csp.unpersist()\n",
    "del df_faits_csp\n",
    "df_faits_population.unpersist()\n",
    "del df_faits_population\n",
    "df_csp_filtre.unpersist()\n",
    "del df_csp_filtre\n",
    "df_demographie_filtre.unpersist()\n",
    "del df_demographie_filtre\n",
    "del df_demographie\n",
    "del df_csp"
   ]
  },
  {
   "cell_type": "code",
   "execution_count": null,
   "id": "dac28e36-c0db-42be-ab5d-e8b03b678c72",
   "metadata": {},
   "outputs": [],
   "source": [
    "spark.stop()"
   ]
  },
  {
   "cell_type": "markdown",
   "id": "c9c02a34-5df3-41b9-bf0e-7dac5a401e0e",
   "metadata": {},
   "source": [
    "# Générer une table au format CSV avec une description statistique du DataFrame"
   ]
  },
  {
   "cell_type": "code",
   "execution_count": null,
   "id": "c509e0fd-0c95-448d-b884-9b9ab7bfb6eb",
   "metadata": {
    "jupyter": {
     "source_hidden": true
    }
   },
   "outputs": [],
   "source": [
    "# df.describe().toPandas().to_csv(\"describe_summary.csv\", index=False)"
   ]
  },
  {
   "cell_type": "markdown",
   "id": "c0a5dbff-0230-4591-a711-21dc73918d26",
   "metadata": {
    "editable": true,
    "slideshow": {
     "slide_type": ""
    },
    "tags": []
   },
   "source": [
    "# Effectuer un échantillonage du DataFrame pour en observer les colonnes qui peuvent sembler pertinentes"
   ]
  },
  {
   "cell_type": "code",
   "execution_count": null,
   "id": "55d5f76d-d583-4802-9fa0-edc521eeb18b",
   "metadata": {
    "jupyter": {
     "source_hidden": true
    }
   },
   "outputs": [],
   "source": [
    "# FRACTION_SIZE = 0.00001"
   ]
  },
  {
   "cell_type": "code",
   "execution_count": null,
   "id": "44d995a5-115b-42b1-a335-1ac1e7998960",
   "metadata": {
    "jupyter": {
     "source_hidden": true
    }
   },
   "outputs": [],
   "source": [
    "# columnsToSample = ['quantity', 'serving_size', 'serving_quantity', 'product_quantity']"
   ]
  },
  {
   "cell_type": "code",
   "execution_count": null,
   "id": "4f1ebc1d-f028-46f8-badf-46cc45681b5e",
   "metadata": {
    "jupyter": {
     "source_hidden": true
    }
   },
   "outputs": [],
   "source": [
    "# samples_not_clean_df = df.select(columnsToSample).dropna(how='all').cache()"
   ]
  },
  {
   "cell_type": "code",
   "execution_count": null,
   "id": "b4fe3f00-b57c-464f-a77c-b63e28e24461",
   "metadata": {
    "jupyter": {
     "source_hidden": true
    }
   },
   "outputs": [],
   "source": [
    "# samples_df = samples_not_clean_df.sample(withReplacement=False, fraction=FRACTION_SIZE).cache()"
   ]
  },
  {
   "cell_type": "code",
   "execution_count": null,
   "id": "c8ab1de3-9d35-4cf7-a291-fc21f5c03a5e",
   "metadata": {
    "jupyter": {
     "source_hidden": true
    }
   },
   "outputs": [],
   "source": [
    "# samples_df.count()"
   ]
  },
  {
   "cell_type": "code",
   "execution_count": null,
   "id": "bbdbd707-1f7a-43a5-89bf-2d0e1c650129",
   "metadata": {
    "jupyter": {
     "source_hidden": true
    }
   },
   "outputs": [],
   "source": [
    "# samples_df.show()"
   ]
  },
  {
   "cell_type": "markdown",
   "id": "4a1fbeb1-073d-4f49-8d3b-5dcb68323199",
   "metadata": {
    "editable": true,
    "slideshow": {
     "slide_type": ""
    },
    "tags": []
   },
   "source": [
    "# Extraire les valeurs uniques d'une colonne afin d'en confirmer la pertinence (colonne ingredients_analysis_tags en exemple)"
   ]
  },
  {
   "cell_type": "code",
   "execution_count": null,
   "id": "fac11a35-ffa3-4555-9475-21774e8e3355",
   "metadata": {
    "jupyter": {
     "source_hidden": true
    }
   },
   "outputs": [],
   "source": [
    "# def flatten_list(li):\n",
    "#     flat_list = []\n",
    "#     for row in li:\n",
    "#         flat_list += row\n",
    "#     return flat_list\n",
    "\n",
    "# def make_list_unique(li):\n",
    "#     return list(dict.fromkeys(li))\n",
    "\n",
    "# def split_string_list_elements(li, sep):\n",
    "#     return [x.split(sep) for x in li]\n",
    "\n",
    "# def column_to_list(col):\n",
    "#     return col.rdd.flatMap(lambda x: x).collect()"
   ]
  },
  {
   "cell_type": "code",
   "execution_count": null,
   "id": "f785cd80-da26-44c9-ad04-703fc19f1b3b",
   "metadata": {
    "jupyter": {
     "source_hidden": true
    }
   },
   "outputs": [],
   "source": [
    "# ingredients_analysis_list = make_list_unique(flatten_list(split_string_list_elements(column_to_list(df.select('ingredients_analysis_tags').dropna()), \",\")))"
   ]
  },
  {
   "cell_type": "code",
   "execution_count": null,
   "id": "16092ba1-d5b4-44a1-884f-79649c1d1e18",
   "metadata": {
    "jupyter": {
     "source_hidden": true
    }
   },
   "outputs": [],
   "source": [
    "# ingredients_analysis_list"
   ]
  },
  {
   "cell_type": "markdown",
   "id": "cbea218f-d625-42e0-9bc9-c9905418c902",
   "metadata": {},
   "source": [
    "# Sélection des colonnes nécessaires après étude de celles-ci"
   ]
  },
  {
   "cell_type": "code",
   "execution_count": null,
   "id": "cdbddf06-6cc8-427d-b8ec-01b6724e754b",
   "metadata": {
    "jupyter": {
     "source_hidden": true
    }
   },
   "outputs": [],
   "source": [
    "# kept_columns = [\"code\", \"product_name\", \"product_quantity\", \"energy-kcal_100g\", \"fat_100g\", \"saturated-fat_100g\", \"monounsaturated-fat_100g\", \"polyunsaturated-fat_100g\", \"trans-fat_100g\", \n",
    "#                 \"carbohydrates_100g\", \"sugars_100g\", \"starch_100g\", \"fiber_100g\", \"proteins_100g\", \"allergens\", \"traces\", \"vitamin-a_100g\", \"vitamin-c_100g\", \"vitamin-d_100g\",\n",
    "#                 \"vitamin-e_100g\", \"vitamin-k_100g\", \"vitamin-b1_100g\", \"vitamin-b2_100g\", \"vitamin-b6_100g\", \"vitamin-b9_100g\", \"vitamin-b12_100g\", \"calcium_100g\",\n",
    "#                 \"iron_100g\", \"magnesium_100g\", \"potassium_100g\", \"zinc_100g\", \"food_groups_tags\", \"serving_size\", \"serving_quantity\", \"cholesterol_100g\", \"salt_100g\", \"glycemic-index_100g\"]"
   ]
  },
  {
   "cell_type": "code",
   "execution_count": null,
   "id": "eee5f531-00a6-4b91-b5a2-b96c156ac3f2",
   "metadata": {
    "jupyter": {
     "source_hidden": true
    },
    "scrolled": true
   },
   "outputs": [],
   "source": [
    "# df_kept_columns = df.select(kept_columns)"
   ]
  },
  {
   "cell_type": "markdown",
   "id": "b36aac7f-d961-4ad3-8a2e-b686e123db86",
   "metadata": {},
   "source": [
    "# Qualité des données"
   ]
  },
  {
   "cell_type": "markdown",
   "id": "5865a15b-462b-47e0-a0aa-58fcc3bde723",
   "metadata": {},
   "source": [
    "## On supprime les lignes qui ont moins de 15 colonnes très pertinentes non nulles"
   ]
  },
  {
   "cell_type": "code",
   "execution_count": null,
   "id": "17cff244-deab-4ecb-bb91-3f1c8aab0aa1",
   "metadata": {
    "jupyter": {
     "source_hidden": true
    }
   },
   "outputs": [],
   "source": [
    "# columns_to_check = [\"code\", \"product_name\", \"product_quantity\", \"energy-kcal_100g\", \"fat_100g\", \"saturated-fat_100g\", \"monounsaturated-fat_100g\",\n",
    "#                     \"polyunsaturated-fat_100g\", \"trans-fat_100g\", \"carbohydrates_100g\", \"sugars_100g\", \"starch_100g\", \n",
    "#                     \"fiber_100g\", \"proteins_100g\", \"allergens\", \"traces\", \"food_groups_tags\", \"serving_size\", \"serving_quantity\"]"
   ]
  },
  {
   "cell_type": "code",
   "execution_count": null,
   "id": "654d9c42-65bb-45b0-8424-a6a4e46412f9",
   "metadata": {
    "jupyter": {
     "source_hidden": true
    }
   },
   "outputs": [],
   "source": [
    "# df_kept_columns = df_kept_columns.dropna(subset=columns_to_check, thresh=15)"
   ]
  },
  {
   "cell_type": "markdown",
   "id": "a80a219a-d79c-42ab-bbe8-690ac1e93ac4",
   "metadata": {},
   "source": [
    "## On supprime les lignes dupliquées et on garde le DF en cache pour éviter de le recalculer"
   ]
  },
  {
   "cell_type": "code",
   "execution_count": null,
   "id": "dbddb80b-ca7e-4fde-a846-3a061669a46e",
   "metadata": {
    "jupyter": {
     "source_hidden": true
    }
   },
   "outputs": [],
   "source": [
    "# df_kept_columns = df_kept_columns.dropDuplicates().cache()"
   ]
  },
  {
   "cell_type": "code",
   "execution_count": null,
   "id": "232b7def-6aa5-4c8c-80d2-819edf14a7cb",
   "metadata": {
    "jupyter": {
     "source_hidden": true
    }
   },
   "outputs": [],
   "source": [
    "# print(\"Nombre de lignes restantes après le traitement : \" + str(df_kept_columns.count()))"
   ]
  },
  {
   "cell_type": "markdown",
   "id": "7b975b69-adad-403a-9dab-a81f651c20e0",
   "metadata": {},
   "source": [
    "## Plus besoin du DataFrame de base donc on le retire de la mémoire cache"
   ]
  },
  {
   "cell_type": "code",
   "execution_count": null,
   "id": "67819e1e-1b25-4e4f-bc09-06af99ed72a7",
   "metadata": {
    "jupyter": {
     "source_hidden": true
    }
   },
   "outputs": [],
   "source": [
    "# df.unpersist()\n",
    "# print(\"Mémoire libérée\")"
   ]
  }
 ],
 "metadata": {
  "kernelspec": {
   "display_name": "Python 3 (ipykernel)",
   "language": "python",
   "name": "python3"
  },
  "language_info": {
   "codemirror_mode": {
    "name": "ipython",
    "version": 3
   },
   "file_extension": ".py",
   "mimetype": "text/x-python",
   "name": "python",
   "nbconvert_exporter": "python",
   "pygments_lexer": "ipython3",
   "version": "3.11.6"
  }
 },
 "nbformat": 4,
 "nbformat_minor": 5
}
