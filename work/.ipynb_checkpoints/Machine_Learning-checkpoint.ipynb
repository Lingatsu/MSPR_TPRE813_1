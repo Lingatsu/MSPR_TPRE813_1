{
 "cells": [
  {
   "cell_type": "code",
   "execution_count": 1,
   "id": "206080a3-5991-482e-8745-7bd001e8889a",
   "metadata": {},
   "outputs": [],
   "source": [
    "from pyspark.sql import SparkSession\n",
    "\n",
    "properties = {\n",
    "    \"user\": \"root\",\n",
    "    \"password\": \"root\",\n",
    "    \"driver\": \"com.mysql.cj.jdbc.Driver\"\n",
    "}\n",
    "\n",
    "spark = SparkSession.builder \\\n",
    "    .appName(\"example\") \\\n",
    "    .config(\"spark.dynamicAllocation.enabled\", \"true\") \\\n",
    "    .config(\"spark.dynamicAllocation.minExecutors\", \"1\") \\\n",
    "    .config(\"spark.dynamicAllocation.maxExecutors\", \"50\") \\\n",
    "    .config(\"spark.driver.memory\", \"8g\") \\\n",
    "    .config(\"spark.executor.memory\", \"8g\") \\\n",
    "    .config(\"spark.executor.instances\", \"4\") \\\n",
    "    .config(\"spark.executor.cores\", \"2\") \\\n",
    "    .config(\"spark.memory.fraction\", \"0.8\") \\\n",
    "    .getOrCreate()"
   ]
  },
  {
   "cell_type": "code",
   "execution_count": 2,
   "id": "9963b543-0331-434d-aaa8-421bebd16f09",
   "metadata": {},
   "outputs": [],
   "source": [
    "df_faits = spark.read.jdbc(url=\"jdbc:mysql://mysql:3306/mspr1\", table=\"faits\", properties=properties)\n",
    "df_crimes = spark.read.jdbc(url=\"jdbc:mysql://mysql:3306/mspr1\", table=\"crimes\", properties=properties)\n",
    "df_communes = spark.read.jdbc(url=\"jdbc:mysql://mysql:3306/mspr1\", table=\"communes\", properties=properties)\n",
    "df_elections = spark.read.jdbc(url=\"jdbc:mysql://mysql:3306/mspr1\", table=\"elections\", properties=properties)"
   ]
  },
  {
   "cell_type": "code",
   "execution_count": 3,
   "id": "3c69c5ca-7c5a-46da-9784-597674979e7a",
   "metadata": {},
   "outputs": [],
   "source": [
    "df = df_faits.join(df_crimes, on=[\"codecommune\", \"annee\"], how=\"outer\")\n",
    "df = df.join(df_elections, on=[\"codecommune\", \"annee\"], how=\"outer\")\n",
    "# .join(df_elections, on=[\"codecommune\", \"annee\"], how=\"outer\").join(df_communes, on=[\"codecommune\"], how=\"outer\").cache()"
   ]
  },
  {
   "cell_type": "code",
   "execution_count": 4,
   "id": "1a1398fa-bebb-4388-8722-8bb324b58771",
   "metadata": {},
   "outputs": [
    {
     "name": "stdout",
     "output_type": "stream",
     "text": [
      "+-----------+-----+------------+------------+------+--------------+--------+--------+------------------------+--------+----------+-------------+-----------+------+-------------+----+------+-------------------------+\n",
      "|codecommune|annee|agriculteurs|independants|cadres|intermediaires|employes|ouvriers|population_active_totale|chomeurs|population|crimes_delits|id_election|bureau|type_election|tour|nuance|pourcentage_voix_inscrits|\n",
      "+-----------+-----+------------+------------+------+--------------+--------+--------+------------------------+--------+----------+-------------+-----------+------+-------------+----+------+-------------------------+\n",
      "|      2A017| 1791|        NULL|        NULL|  NULL|          NULL|    NULL|    NULL|                    NULL|    NULL|       285|         NULL|       NULL|  NULL|         NULL|NULL|  NULL|                     NULL|\n",
      "|      2A022| 1791|        NULL|        NULL|  NULL|          NULL|    NULL|    NULL|                    NULL|    NULL|        82|         NULL|       NULL|  NULL|         NULL|NULL|  NULL|                     NULL|\n",
      "|      2A031| 1791|        NULL|        NULL|  NULL|          NULL|    NULL|    NULL|                    NULL|    NULL|      2334|         NULL|       NULL|  NULL|         NULL|NULL|  NULL|                     NULL|\n",
      "|      2A064| 1791|        NULL|        NULL|  NULL|          NULL|    NULL|    NULL|                    NULL|    NULL|        17|         NULL|       NULL|  NULL|         NULL|NULL|  NULL|                     NULL|\n",
      "|      2A117| 1791|        NULL|        NULL|  NULL|          NULL|    NULL|    NULL|                    NULL|    NULL|       214|         NULL|       NULL|  NULL|         NULL|NULL|  NULL|                     NULL|\n",
      "|      2A011| 1791|        NULL|        NULL|  NULL|          NULL|    NULL|    NULL|                    NULL|    NULL|       184|         NULL|       NULL|  NULL|         NULL|NULL|  NULL|                     NULL|\n",
      "|      2A014| 1791|        NULL|        NULL|  NULL|          NULL|    NULL|    NULL|                    NULL|    NULL|        56|         NULL|       NULL|  NULL|         NULL|NULL|  NULL|                     NULL|\n",
      "|      2A141| 1791|        NULL|        NULL|  NULL|          NULL|    NULL|    NULL|                    NULL|    NULL|       271|         NULL|       NULL|  NULL|         NULL|NULL|  NULL|                     NULL|\n",
      "|      2A070| 1791|        NULL|        NULL|  NULL|          NULL|    NULL|    NULL|                    NULL|    NULL|       179|         NULL|       NULL|  NULL|         NULL|NULL|  NULL|                     NULL|\n",
      "|      2A232| 1791|        NULL|        NULL|  NULL|          NULL|    NULL|    NULL|                    NULL|    NULL|       451|         NULL|       NULL|  NULL|         NULL|NULL|  NULL|                     NULL|\n",
      "|      2A108| 1791|        NULL|        NULL|  NULL|          NULL|    NULL|    NULL|                    NULL|    NULL|       461|         NULL|       NULL|  NULL|         NULL|NULL|  NULL|                     NULL|\n",
      "|      2A066| 1791|        NULL|        NULL|  NULL|          NULL|    NULL|    NULL|                    NULL|    NULL|       296|         NULL|       NULL|  NULL|         NULL|NULL|  NULL|                     NULL|\n",
      "|      2A103| 1791|        NULL|        NULL|  NULL|          NULL|    NULL|    NULL|                    NULL|    NULL|       714|         NULL|       NULL|  NULL|         NULL|NULL|  NULL|                     NULL|\n",
      "|      2A163| 1791|        NULL|        NULL|  NULL|          NULL|    NULL|    NULL|                    NULL|    NULL|       714|         NULL|       NULL|  NULL|         NULL|NULL|  NULL|                     NULL|\n",
      "|      2A322| 1791|        NULL|        NULL|  NULL|          NULL|    NULL|    NULL|                    NULL|    NULL|       360|         NULL|       NULL|  NULL|         NULL|NULL|  NULL|                     NULL|\n",
      "|      2A026| 1791|        NULL|        NULL|  NULL|          NULL|    NULL|    NULL|                    NULL|    NULL|       288|         NULL|       NULL|  NULL|         NULL|NULL|  NULL|                     NULL|\n",
      "|      2A035| 1791|        NULL|        NULL|  NULL|          NULL|    NULL|    NULL|                    NULL|    NULL|       311|         NULL|       NULL|  NULL|         NULL|NULL|  NULL|                     NULL|\n",
      "|      2A028| 1791|        NULL|        NULL|  NULL|          NULL|    NULL|    NULL|                    NULL|    NULL|       312|         NULL|       NULL|  NULL|         NULL|NULL|  NULL|                     NULL|\n",
      "|      2A326| 1791|        NULL|        NULL|  NULL|          NULL|    NULL|    NULL|                    NULL|    NULL|       356|         NULL|       NULL|  NULL|         NULL|NULL|  NULL|                     NULL|\n",
      "|      2A032| 1791|        NULL|        NULL|  NULL|          NULL|    NULL|    NULL|                    NULL|    NULL|       423|         NULL|       NULL|  NULL|         NULL|NULL|  NULL|                     NULL|\n",
      "+-----------+-----+------------+------------+------+--------------+--------+--------+------------------------+--------+----------+-------------+-----------+------+-------------+----+------+-------------------------+\n",
      "only showing top 20 rows\n",
      "\n"
     ]
    }
   ],
   "source": [
    "df.show()"
   ]
  },
  {
   "cell_type": "code",
   "execution_count": 5,
   "id": "5f880a3c-6d21-4386-adfd-d99f028012f8",
   "metadata": {},
   "outputs": [],
   "source": [
    "# spark.stop()"
   ]
  },
  {
   "cell_type": "code",
   "execution_count": null,
   "id": "211c7777-e686-40ce-8bf8-96d2ab32c03c",
   "metadata": {},
   "outputs": [],
   "source": []
  }
 ],
 "metadata": {
  "kernelspec": {
   "display_name": "Python 3 (ipykernel)",
   "language": "python",
   "name": "python3"
  },
  "language_info": {
   "codemirror_mode": {
    "name": "ipython",
    "version": 3
   },
   "file_extension": ".py",
   "mimetype": "text/x-python",
   "name": "python",
   "nbconvert_exporter": "python",
   "pygments_lexer": "ipython3",
   "version": "3.11.6"
  }
 },
 "nbformat": 4,
 "nbformat_minor": 5
}
